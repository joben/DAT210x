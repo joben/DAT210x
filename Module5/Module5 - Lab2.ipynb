{
 "cells": [
  {
   "cell_type": "markdown",
   "metadata": {},
   "source": [
    "# DAT210x - Programming with Python for DS"
   ]
  },
  {
   "cell_type": "markdown",
   "metadata": {},
   "source": [
    "## Module5- Lab2"
   ]
  },
  {
   "cell_type": "markdown",
   "metadata": {
    "collapsed": true
   },
   "source": [
    "Start by importing whatever you need to import in order to make this lab work:"
   ]
  },
  {
   "cell_type": "code",
   "execution_count": 10,
   "metadata": {
    "collapsed": false
   },
   "outputs": [],
   "source": [
    "# .. your code here ..\n",
    "import pandas as pd\n",
    "import numpy as np\n",
    "import matplotlib.pyplot as plt\n",
    "import matplotlib\n",
    "\n",
    "from sklearn.cluster import KMeans\n"
   ]
  },
  {
   "cell_type": "markdown",
   "metadata": {
    "collapsed": true
   },
   "source": [
    "### CDRs"
   ]
  },
  {
   "cell_type": "markdown",
   "metadata": {
    "collapsed": true
   },
   "source": [
    "A [call detail record](https://en.wikipedia.org/wiki/Call_detail_record) (CDR) is a data record produced by a telephone exchange or other telecommunications equipment that documents the details of a telephone call or other telecommunications transaction (e.g., text message) that passes through that facility or device.\n",
    "\n",
    "The record contains various attributes of the call, such as time, duration, completion status, source number, and destination number. It is the automated equivalent of the paper toll tickets that were written and timed by operators for long-distance calls in a manual telephone exchange.\n",
    "\n",
    "The dataset we've curated for you contains call records for 10 people, tracked over the course of 3 years. Your job in this assignment is to find out where each of these people likely live and where they work at!\n",
    "\n",
    "Start by loading up the dataset and taking a peek at its head. You can convert date-strings to real date-time objects using `pd.to_datetime`, and the times using `pd.to_timedelta`:"
   ]
  },
  {
   "cell_type": "code",
   "execution_count": 4,
   "metadata": {
    "collapsed": false
   },
   "outputs": [],
   "source": [
    "# .. your code here ..\n",
    "df = pd.read_csv('Datasets/CDR.csv')"
   ]
  },
  {
   "cell_type": "code",
   "execution_count": 22,
   "metadata": {
    "collapsed": false
   },
   "outputs": [],
   "source": [
    "df.CallDate = pd.to_datetime(df['CallDate'])\n",
    "df.Duration = pd.to_timedelta(df['Duration'])\n",
    "df.CallTime = pd.to_timedelta(df['CallTime'])"
   ]
  },
  {
   "cell_type": "code",
   "execution_count": 28,
   "metadata": {
    "collapsed": false
   },
   "outputs": [
    {
     "data": {
      "text/plain": [
       "In                     int64\n",
       "Out                    int64\n",
       "Direction             object\n",
       "CallDate      datetime64[ns]\n",
       "CallTime     timedelta64[ns]\n",
       "DOW                   object\n",
       "Duration     timedelta64[ns]\n",
       "TowerID               object\n",
       "TowerLat             float64\n",
       "TowerLon             float64\n",
       "dtype: object"
      ]
     },
     "execution_count": 28,
     "metadata": {},
     "output_type": "execute_result"
    }
   ],
   "source": [
    "df.head()\n",
    "df.dtypes"
   ]
  },
  {
   "cell_type": "markdown",
   "metadata": {},
   "source": [
    "Create a distinct list of `In` phone numbers (people) and store the values in a regular python list. Make sure the numbers appear in your list in the same order they appear in your dataframe; but only keep a single copy of each number. [This link](https://docs.scipy.org/doc/numpy/reference/generated/numpy.ndarray.tolist.html) might also be helpful."
   ]
  },
  {
   "cell_type": "code",
   "execution_count": 21,
   "metadata": {
    "collapsed": false
   },
   "outputs": [
    {
     "data": {
      "text/plain": [
       "[4638472273,\n",
       " 1559410755,\n",
       " 4931532174,\n",
       " 2419930464,\n",
       " 1884182865,\n",
       " 3688089071,\n",
       " 4555003213,\n",
       " 2068627935,\n",
       " 2894365987,\n",
       " 8549533077]"
      ]
     },
     "execution_count": 21,
     "metadata": {},
     "output_type": "execute_result"
    }
   ],
   "source": [
    "# .. your code here ..\n",
    "people = []\n",
    "\n",
    "people = (df.In.unique()).tolist()"
   ]
  },
  {
   "cell_type": "markdown",
   "metadata": {},
   "source": [
    "Create a slice named `user1` that filters to _only_ include dataset records where the `In` feature (user's phone number) is equal to the first number on your unique list above, i.e., the very first number in the dataset:"
   ]
  },
  {
   "cell_type": "code",
   "execution_count": 31,
   "metadata": {
    "collapsed": false
   },
   "outputs": [
    {
     "data": {
      "text/html": [
       "<div>\n",
       "<table border=\"1\" class=\"dataframe\">\n",
       "  <thead>\n",
       "    <tr style=\"text-align: right;\">\n",
       "      <th></th>\n",
       "      <th>In</th>\n",
       "      <th>Out</th>\n",
       "      <th>Direction</th>\n",
       "      <th>CallDate</th>\n",
       "      <th>CallTime</th>\n",
       "      <th>DOW</th>\n",
       "      <th>Duration</th>\n",
       "      <th>TowerID</th>\n",
       "      <th>TowerLat</th>\n",
       "      <th>TowerLon</th>\n",
       "    </tr>\n",
       "  </thead>\n",
       "  <tbody>\n",
       "    <tr>\n",
       "      <th>0</th>\n",
       "      <td>4638472273</td>\n",
       "      <td>2666307251</td>\n",
       "      <td>Incoming</td>\n",
       "      <td>2010-12-25</td>\n",
       "      <td>07:16:24.736813</td>\n",
       "      <td>Sat</td>\n",
       "      <td>00:02:41.741499</td>\n",
       "      <td>0db53dd3-eb9c-4344-abc5-c2d74ebc3eec</td>\n",
       "      <td>32.731611</td>\n",
       "      <td>-96.709417</td>\n",
       "    </tr>\n",
       "    <tr>\n",
       "      <th>1</th>\n",
       "      <td>4638472273</td>\n",
       "      <td>1755442610</td>\n",
       "      <td>Incoming</td>\n",
       "      <td>2010-12-25</td>\n",
       "      <td>21:18:30.053710</td>\n",
       "      <td>Sat</td>\n",
       "      <td>00:02:47.108750</td>\n",
       "      <td>aeaf8b43-8034-44fe-833d-31854a75acbf</td>\n",
       "      <td>32.731722</td>\n",
       "      <td>-96.709500</td>\n",
       "    </tr>\n",
       "    <tr>\n",
       "      <th>2</th>\n",
       "      <td>4638472273</td>\n",
       "      <td>5481755331</td>\n",
       "      <td>Incoming</td>\n",
       "      <td>2010-12-25</td>\n",
       "      <td>14:52:42.878016</td>\n",
       "      <td>Sat</td>\n",
       "      <td>00:04:35.356341</td>\n",
       "      <td>fadaa83f-6001-45fd-aa4a-17d6c6b7ec00</td>\n",
       "      <td>32.899944</td>\n",
       "      <td>-96.910389</td>\n",
       "    </tr>\n",
       "    <tr>\n",
       "      <th>3</th>\n",
       "      <td>4638472273</td>\n",
       "      <td>1755442610</td>\n",
       "      <td>Incoming</td>\n",
       "      <td>2010-12-25</td>\n",
       "      <td>16:02:09.001913</td>\n",
       "      <td>Sat</td>\n",
       "      <td>00:02:23.498499</td>\n",
       "      <td>fadaa83f-6001-45fd-aa4a-17d6c6b7ec00</td>\n",
       "      <td>32.899944</td>\n",
       "      <td>-96.910389</td>\n",
       "    </tr>\n",
       "    <tr>\n",
       "      <th>4</th>\n",
       "      <td>4638472273</td>\n",
       "      <td>2145623768</td>\n",
       "      <td>Incoming</td>\n",
       "      <td>2010-12-25</td>\n",
       "      <td>15:28:35.028554</td>\n",
       "      <td>Sat</td>\n",
       "      <td>00:03:54.692497</td>\n",
       "      <td>95d7920d-c3cd-4d20-a568-9a55800dc807</td>\n",
       "      <td>32.899944</td>\n",
       "      <td>-96.910389</td>\n",
       "    </tr>\n",
       "    <tr>\n",
       "      <th>5</th>\n",
       "      <td>4638472273</td>\n",
       "      <td>2946222380</td>\n",
       "      <td>Incoming</td>\n",
       "      <td>2010-12-25</td>\n",
       "      <td>11:38:17.275327</td>\n",
       "      <td>Sat</td>\n",
       "      <td>00:03:06.670355</td>\n",
       "      <td>95c91e8b-6ff1-4893-9df3-b0342636bd25</td>\n",
       "      <td>32.899944</td>\n",
       "      <td>-96.910389</td>\n",
       "    </tr>\n",
       "    <tr>\n",
       "      <th>6</th>\n",
       "      <td>4638472273</td>\n",
       "      <td>7841019020</td>\n",
       "      <td>Missed</td>\n",
       "      <td>2010-12-25</td>\n",
       "      <td>10:38:35.924232</td>\n",
       "      <td>Sat</td>\n",
       "      <td>00:02:02.855268</td>\n",
       "      <td>fadaa83f-6001-45fd-aa4a-17d6c6b7ec00</td>\n",
       "      <td>32.899944</td>\n",
       "      <td>-96.910389</td>\n",
       "    </tr>\n",
       "    <tr>\n",
       "      <th>71</th>\n",
       "      <td>4638472273</td>\n",
       "      <td>5912117253</td>\n",
       "      <td>Incoming</td>\n",
       "      <td>2010-12-26</td>\n",
       "      <td>14:34:27.530327</td>\n",
       "      <td>Sun</td>\n",
       "      <td>00:06:34.154104</td>\n",
       "      <td>84844bb1-1d36-4401-abf4-a3c566c07630</td>\n",
       "      <td>32.895833</td>\n",
       "      <td>-96.901944</td>\n",
       "    </tr>\n",
       "    <tr>\n",
       "      <th>72</th>\n",
       "      <td>4638472273</td>\n",
       "      <td>2145623768</td>\n",
       "      <td>Incoming</td>\n",
       "      <td>2010-12-26</td>\n",
       "      <td>20:45:00.306964</td>\n",
       "      <td>Sun</td>\n",
       "      <td>00:03:35.283608</td>\n",
       "      <td>26f7441e-e64b-4b9d-8c5a-0eb34f7e919f</td>\n",
       "      <td>32.731611</td>\n",
       "      <td>-96.709417</td>\n",
       "    </tr>\n",
       "    <tr>\n",
       "      <th>73</th>\n",
       "      <td>4638472273</td>\n",
       "      <td>4551601645</td>\n",
       "      <td>Missed</td>\n",
       "      <td>2010-12-26</td>\n",
       "      <td>16:03:43.841914</td>\n",
       "      <td>Sun</td>\n",
       "      <td>00:04:15.182895</td>\n",
       "      <td>bf3bf815-3795-4be6-bec3-12b8f713e50d</td>\n",
       "      <td>32.899944</td>\n",
       "      <td>-96.910389</td>\n",
       "    </tr>\n",
       "    <tr>\n",
       "      <th>74</th>\n",
       "      <td>4638472273</td>\n",
       "      <td>6250348072</td>\n",
       "      <td>Incoming</td>\n",
       "      <td>2010-12-26</td>\n",
       "      <td>18:30:28.968794</td>\n",
       "      <td>Sun</td>\n",
       "      <td>00:02:52.395467</td>\n",
       "      <td>aeaf8b43-8034-44fe-833d-31854a75acbf</td>\n",
       "      <td>32.731722</td>\n",
       "      <td>-96.709500</td>\n",
       "    </tr>\n",
       "    <tr>\n",
       "      <th>75</th>\n",
       "      <td>4638472273</td>\n",
       "      <td>8180005891</td>\n",
       "      <td>Incoming</td>\n",
       "      <td>2010-12-26</td>\n",
       "      <td>19:19:23.380844</td>\n",
       "      <td>Sun</td>\n",
       "      <td>00:03:45.783299</td>\n",
       "      <td>cd9f3b1a-2eb8-4cdb-86d1-5d4c2740b1dc</td>\n",
       "      <td>32.731722</td>\n",
       "      <td>-96.709500</td>\n",
       "    </tr>\n",
       "    <tr>\n",
       "      <th>76</th>\n",
       "      <td>4638472273</td>\n",
       "      <td>7922223441</td>\n",
       "      <td>Missed</td>\n",
       "      <td>2010-12-26</td>\n",
       "      <td>20:10:13.924779</td>\n",
       "      <td>Sun</td>\n",
       "      <td>00:02:49.402318</td>\n",
       "      <td>0db53dd3-eb9c-4344-abc5-c2d74ebc3eec</td>\n",
       "      <td>32.731611</td>\n",
       "      <td>-96.709417</td>\n",
       "    </tr>\n",
       "    <tr>\n",
       "      <th>77</th>\n",
       "      <td>4638472273</td>\n",
       "      <td>5481755331</td>\n",
       "      <td>Incoming</td>\n",
       "      <td>2010-12-26</td>\n",
       "      <td>16:01:49.310880</td>\n",
       "      <td>Sun</td>\n",
       "      <td>00:05:32.498983</td>\n",
       "      <td>fadaa83f-6001-45fd-aa4a-17d6c6b7ec00</td>\n",
       "      <td>32.899944</td>\n",
       "      <td>-96.910389</td>\n",
       "    </tr>\n",
       "    <tr>\n",
       "      <th>78</th>\n",
       "      <td>4638472273</td>\n",
       "      <td>5912117253</td>\n",
       "      <td>Incoming</td>\n",
       "      <td>2010-12-26</td>\n",
       "      <td>18:29:45.558560</td>\n",
       "      <td>Sun</td>\n",
       "      <td>00:02:57.914809</td>\n",
       "      <td>f9a9468b-dca3-4510-8fc1-1cba8dc77882</td>\n",
       "      <td>32.753500</td>\n",
       "      <td>-96.742528</td>\n",
       "    </tr>\n",
       "    <tr>\n",
       "      <th>161</th>\n",
       "      <td>4638472273</td>\n",
       "      <td>5912117253</td>\n",
       "      <td>Missed</td>\n",
       "      <td>2010-12-27</td>\n",
       "      <td>18:41:14.639828</td>\n",
       "      <td>Mon</td>\n",
       "      <td>00:00:20.304073</td>\n",
       "      <td>09756fb6-223f-43e9-9402-9b90c7048639</td>\n",
       "      <td>32.805667</td>\n",
       "      <td>-96.796667</td>\n",
       "    </tr>\n",
       "    <tr>\n",
       "      <th>194</th>\n",
       "      <td>4638472273</td>\n",
       "      <td>4217121115</td>\n",
       "      <td>Incoming</td>\n",
       "      <td>2010-12-28</td>\n",
       "      <td>21:36:14.190286</td>\n",
       "      <td>Tue</td>\n",
       "      <td>00:05:56.080785</td>\n",
       "      <td>bcec0121-164d-406c-8c04-d12870893992</td>\n",
       "      <td>32.731611</td>\n",
       "      <td>-96.709417</td>\n",
       "    </tr>\n",
       "    <tr>\n",
       "      <th>195</th>\n",
       "      <td>4638472273</td>\n",
       "      <td>6022767590</td>\n",
       "      <td>Incoming</td>\n",
       "      <td>2010-12-28</td>\n",
       "      <td>19:57:19.501140</td>\n",
       "      <td>Tue</td>\n",
       "      <td>00:02:38.219371</td>\n",
       "      <td>bcec0121-164d-406c-8c04-d12870893992</td>\n",
       "      <td>32.731611</td>\n",
       "      <td>-96.709417</td>\n",
       "    </tr>\n",
       "    <tr>\n",
       "      <th>196</th>\n",
       "      <td>4638472273</td>\n",
       "      <td>5621270003</td>\n",
       "      <td>Incoming</td>\n",
       "      <td>2010-12-28</td>\n",
       "      <td>17:10:15.465881</td>\n",
       "      <td>Tue</td>\n",
       "      <td>00:01:56.250335</td>\n",
       "      <td>78512965-e30b-4734-ae92-47b910fe3d7f</td>\n",
       "      <td>32.899944</td>\n",
       "      <td>-96.910389</td>\n",
       "    </tr>\n",
       "    <tr>\n",
       "      <th>197</th>\n",
       "      <td>4638472273</td>\n",
       "      <td>5481755331</td>\n",
       "      <td>Incoming</td>\n",
       "      <td>2010-12-28</td>\n",
       "      <td>16:20:11.532130</td>\n",
       "      <td>Tue</td>\n",
       "      <td>00:03:56.069765</td>\n",
       "      <td>95d7920d-c3cd-4d20-a568-9a55800dc807</td>\n",
       "      <td>32.899944</td>\n",
       "      <td>-96.910389</td>\n",
       "    </tr>\n",
       "    <tr>\n",
       "      <th>198</th>\n",
       "      <td>4638472273</td>\n",
       "      <td>7756914135</td>\n",
       "      <td>Incoming</td>\n",
       "      <td>2010-12-28</td>\n",
       "      <td>19:41:43.122708</td>\n",
       "      <td>Tue</td>\n",
       "      <td>00:05:08.460490</td>\n",
       "      <td>0db53dd3-eb9c-4344-abc5-c2d74ebc3eec</td>\n",
       "      <td>32.731611</td>\n",
       "      <td>-96.709417</td>\n",
       "    </tr>\n",
       "    <tr>\n",
       "      <th>199</th>\n",
       "      <td>4638472273</td>\n",
       "      <td>6150928001</td>\n",
       "      <td>Incoming</td>\n",
       "      <td>2010-12-28</td>\n",
       "      <td>18:05:51.247679</td>\n",
       "      <td>Tue</td>\n",
       "      <td>00:04:13.034708</td>\n",
       "      <td>f9a9468b-dca3-4510-8fc1-1cba8dc77882</td>\n",
       "      <td>32.753500</td>\n",
       "      <td>-96.742528</td>\n",
       "    </tr>\n",
       "    <tr>\n",
       "      <th>200</th>\n",
       "      <td>4638472273</td>\n",
       "      <td>8180005891</td>\n",
       "      <td>Incoming</td>\n",
       "      <td>2010-12-28</td>\n",
       "      <td>15:27:51.105337</td>\n",
       "      <td>Tue</td>\n",
       "      <td>00:03:30.047757</td>\n",
       "      <td>95c91e8b-6ff1-4893-9df3-b0342636bd25</td>\n",
       "      <td>32.899944</td>\n",
       "      <td>-96.910389</td>\n",
       "    </tr>\n",
       "    <tr>\n",
       "      <th>201</th>\n",
       "      <td>4638472273</td>\n",
       "      <td>6022767590</td>\n",
       "      <td>Missed</td>\n",
       "      <td>2010-12-28</td>\n",
       "      <td>20:43:50.766312</td>\n",
       "      <td>Tue</td>\n",
       "      <td>00:03:23.651369</td>\n",
       "      <td>cd9f3b1a-2eb8-4cdb-86d1-5d4c2740b1dc</td>\n",
       "      <td>32.731722</td>\n",
       "      <td>-96.709500</td>\n",
       "    </tr>\n",
       "    <tr>\n",
       "      <th>245</th>\n",
       "      <td>4638472273</td>\n",
       "      <td>2666307251</td>\n",
       "      <td>Incoming</td>\n",
       "      <td>2010-12-29</td>\n",
       "      <td>18:20:56.628554</td>\n",
       "      <td>Wed</td>\n",
       "      <td>00:03:55.018670</td>\n",
       "      <td>f9a9468b-dca3-4510-8fc1-1cba8dc77882</td>\n",
       "      <td>32.753500</td>\n",
       "      <td>-96.742528</td>\n",
       "    </tr>\n",
       "    <tr>\n",
       "      <th>246</th>\n",
       "      <td>4638472273</td>\n",
       "      <td>8068555700</td>\n",
       "      <td>Missed</td>\n",
       "      <td>2010-12-29</td>\n",
       "      <td>17:59:50.895586</td>\n",
       "      <td>Wed</td>\n",
       "      <td>00:03:40.818226</td>\n",
       "      <td>fadaa83f-6001-45fd-aa4a-17d6c6b7ec00</td>\n",
       "      <td>32.899944</td>\n",
       "      <td>-96.910389</td>\n",
       "    </tr>\n",
       "    <tr>\n",
       "      <th>247</th>\n",
       "      <td>4638472273</td>\n",
       "      <td>4551601645</td>\n",
       "      <td>Incoming</td>\n",
       "      <td>2010-12-29</td>\n",
       "      <td>19:16:16.463142</td>\n",
       "      <td>Wed</td>\n",
       "      <td>00:04:20.380243</td>\n",
       "      <td>0db53dd3-eb9c-4344-abc5-c2d74ebc3eec</td>\n",
       "      <td>32.731611</td>\n",
       "      <td>-96.709417</td>\n",
       "    </tr>\n",
       "    <tr>\n",
       "      <th>248</th>\n",
       "      <td>4638472273</td>\n",
       "      <td>8180005891</td>\n",
       "      <td>Missed</td>\n",
       "      <td>2010-12-29</td>\n",
       "      <td>09:13:35.198987</td>\n",
       "      <td>Wed</td>\n",
       "      <td>00:02:10.574446</td>\n",
       "      <td>95c91e8b-6ff1-4893-9df3-b0342636bd25</td>\n",
       "      <td>32.899944</td>\n",
       "      <td>-96.910389</td>\n",
       "    </tr>\n",
       "    <tr>\n",
       "      <th>249</th>\n",
       "      <td>4638472273</td>\n",
       "      <td>2145623768</td>\n",
       "      <td>Incoming</td>\n",
       "      <td>2010-12-29</td>\n",
       "      <td>06:02:11.319738</td>\n",
       "      <td>Wed</td>\n",
       "      <td>00:04:34.436752</td>\n",
       "      <td>9baa92e7-e990-4e9e-8c0a-4c17cb4ecc7c</td>\n",
       "      <td>32.731611</td>\n",
       "      <td>-96.709417</td>\n",
       "    </tr>\n",
       "    <tr>\n",
       "      <th>250</th>\n",
       "      <td>4638472273</td>\n",
       "      <td>8068555700</td>\n",
       "      <td>Incoming</td>\n",
       "      <td>2010-12-29</td>\n",
       "      <td>13:54:14.724722</td>\n",
       "      <td>Wed</td>\n",
       "      <td>00:03:31.297111</td>\n",
       "      <td>fadaa83f-6001-45fd-aa4a-17d6c6b7ec00</td>\n",
       "      <td>32.899944</td>\n",
       "      <td>-96.910389</td>\n",
       "    </tr>\n",
       "    <tr>\n",
       "      <th>...</th>\n",
       "      <td>...</td>\n",
       "      <td>...</td>\n",
       "      <td>...</td>\n",
       "      <td>...</td>\n",
       "      <td>...</td>\n",
       "      <td>...</td>\n",
       "      <td>...</td>\n",
       "      <td>...</td>\n",
       "      <td>...</td>\n",
       "      <td>...</td>\n",
       "    </tr>\n",
       "    <tr>\n",
       "      <th>52881</th>\n",
       "      <td>4638472273</td>\n",
       "      <td>7922223441</td>\n",
       "      <td>Incoming</td>\n",
       "      <td>2013-02-22</td>\n",
       "      <td>16:55:07.961312</td>\n",
       "      <td>Fri</td>\n",
       "      <td>00:01:19.307088</td>\n",
       "      <td>fadaa83f-6001-45fd-aa4a-17d6c6b7ec00</td>\n",
       "      <td>32.899944</td>\n",
       "      <td>-96.910389</td>\n",
       "    </tr>\n",
       "    <tr>\n",
       "      <th>52882</th>\n",
       "      <td>4638472273</td>\n",
       "      <td>7756914135</td>\n",
       "      <td>Missed</td>\n",
       "      <td>2013-02-22</td>\n",
       "      <td>19:37:10.037669</td>\n",
       "      <td>Fri</td>\n",
       "      <td>00:01:58.418414</td>\n",
       "      <td>aeaf8b43-8034-44fe-833d-31854a75acbf</td>\n",
       "      <td>32.731722</td>\n",
       "      <td>-96.709500</td>\n",
       "    </tr>\n",
       "    <tr>\n",
       "      <th>52883</th>\n",
       "      <td>4638472273</td>\n",
       "      <td>8068555700</td>\n",
       "      <td>Incoming</td>\n",
       "      <td>2013-02-22</td>\n",
       "      <td>09:55:01.616595</td>\n",
       "      <td>Fri</td>\n",
       "      <td>00:06:24.099736</td>\n",
       "      <td>78512965-e30b-4734-ae92-47b910fe3d7f</td>\n",
       "      <td>32.899944</td>\n",
       "      <td>-96.910389</td>\n",
       "    </tr>\n",
       "    <tr>\n",
       "      <th>52958</th>\n",
       "      <td>4638472273</td>\n",
       "      <td>4551601645</td>\n",
       "      <td>Missed</td>\n",
       "      <td>2013-02-23</td>\n",
       "      <td>15:20:11.273893</td>\n",
       "      <td>Sat</td>\n",
       "      <td>00:02:53.462583</td>\n",
       "      <td>0296279d-18c3-4709-853e-3e20496ce444</td>\n",
       "      <td>32.899944</td>\n",
       "      <td>-96.910389</td>\n",
       "    </tr>\n",
       "    <tr>\n",
       "      <th>52959</th>\n",
       "      <td>4638472273</td>\n",
       "      <td>8068555700</td>\n",
       "      <td>Incoming</td>\n",
       "      <td>2013-02-23</td>\n",
       "      <td>15:00:49.133445</td>\n",
       "      <td>Sat</td>\n",
       "      <td>00:02:27.015023</td>\n",
       "      <td>0296279d-18c3-4709-853e-3e20496ce444</td>\n",
       "      <td>32.899944</td>\n",
       "      <td>-96.910389</td>\n",
       "    </tr>\n",
       "    <tr>\n",
       "      <th>52960</th>\n",
       "      <td>4638472273</td>\n",
       "      <td>2145623768</td>\n",
       "      <td>Incoming</td>\n",
       "      <td>2013-02-23</td>\n",
       "      <td>08:55:50.559529</td>\n",
       "      <td>Sat</td>\n",
       "      <td>00:02:25.942647</td>\n",
       "      <td>95c91e8b-6ff1-4893-9df3-b0342636bd25</td>\n",
       "      <td>32.899944</td>\n",
       "      <td>-96.910389</td>\n",
       "    </tr>\n",
       "    <tr>\n",
       "      <th>52961</th>\n",
       "      <td>4638472273</td>\n",
       "      <td>2666307251</td>\n",
       "      <td>Incoming</td>\n",
       "      <td>2013-02-23</td>\n",
       "      <td>10:38:12.502505</td>\n",
       "      <td>Sat</td>\n",
       "      <td>00:05:23.225719</td>\n",
       "      <td>0296279d-18c3-4709-853e-3e20496ce444</td>\n",
       "      <td>32.899944</td>\n",
       "      <td>-96.910389</td>\n",
       "    </tr>\n",
       "    <tr>\n",
       "      <th>52962</th>\n",
       "      <td>4638472273</td>\n",
       "      <td>7756914135</td>\n",
       "      <td>Missed</td>\n",
       "      <td>2013-02-23</td>\n",
       "      <td>09:46:14.496592</td>\n",
       "      <td>Sat</td>\n",
       "      <td>00:04:55.466350</td>\n",
       "      <td>0296279d-18c3-4709-853e-3e20496ce444</td>\n",
       "      <td>32.899944</td>\n",
       "      <td>-96.910389</td>\n",
       "    </tr>\n",
       "    <tr>\n",
       "      <th>52963</th>\n",
       "      <td>4638472273</td>\n",
       "      <td>4551601645</td>\n",
       "      <td>Incoming</td>\n",
       "      <td>2013-02-23</td>\n",
       "      <td>15:15:09.466844</td>\n",
       "      <td>Sat</td>\n",
       "      <td>00:04:20.339683</td>\n",
       "      <td>0296279d-18c3-4709-853e-3e20496ce444</td>\n",
       "      <td>32.899944</td>\n",
       "      <td>-96.910389</td>\n",
       "    </tr>\n",
       "    <tr>\n",
       "      <th>52964</th>\n",
       "      <td>4638472273</td>\n",
       "      <td>6022767590</td>\n",
       "      <td>Incoming</td>\n",
       "      <td>2013-02-23</td>\n",
       "      <td>16:12:12.701600</td>\n",
       "      <td>Sat</td>\n",
       "      <td>00:02:21.278138</td>\n",
       "      <td>fadaa83f-6001-45fd-aa4a-17d6c6b7ec00</td>\n",
       "      <td>32.899944</td>\n",
       "      <td>-96.910389</td>\n",
       "    </tr>\n",
       "    <tr>\n",
       "      <th>52965</th>\n",
       "      <td>4638472273</td>\n",
       "      <td>5621270003</td>\n",
       "      <td>Incoming</td>\n",
       "      <td>2013-02-23</td>\n",
       "      <td>09:11:21.606945</td>\n",
       "      <td>Sat</td>\n",
       "      <td>00:03:19.757526</td>\n",
       "      <td>fadaa83f-6001-45fd-aa4a-17d6c6b7ec00</td>\n",
       "      <td>32.899944</td>\n",
       "      <td>-96.910389</td>\n",
       "    </tr>\n",
       "    <tr>\n",
       "      <th>53022</th>\n",
       "      <td>4638472273</td>\n",
       "      <td>7756914135</td>\n",
       "      <td>Incoming</td>\n",
       "      <td>2013-02-24</td>\n",
       "      <td>16:49:42.830258</td>\n",
       "      <td>Sun</td>\n",
       "      <td>00:02:19.285474</td>\n",
       "      <td>fadaa83f-6001-45fd-aa4a-17d6c6b7ec00</td>\n",
       "      <td>32.899944</td>\n",
       "      <td>-96.910389</td>\n",
       "    </tr>\n",
       "    <tr>\n",
       "      <th>53023</th>\n",
       "      <td>4638472273</td>\n",
       "      <td>7721472178</td>\n",
       "      <td>Incoming</td>\n",
       "      <td>2013-02-24</td>\n",
       "      <td>10:32:55.146952</td>\n",
       "      <td>Sun</td>\n",
       "      <td>00:00:04.908620</td>\n",
       "      <td>fadaa83f-6001-45fd-aa4a-17d6c6b7ec00</td>\n",
       "      <td>32.899944</td>\n",
       "      <td>-96.910389</td>\n",
       "    </tr>\n",
       "    <tr>\n",
       "      <th>53024</th>\n",
       "      <td>4638472273</td>\n",
       "      <td>1755442610</td>\n",
       "      <td>Missed</td>\n",
       "      <td>2013-02-24</td>\n",
       "      <td>21:04:47.567403</td>\n",
       "      <td>Sun</td>\n",
       "      <td>00:02:26.051783</td>\n",
       "      <td>bcec0121-164d-406c-8c04-d12870893992</td>\n",
       "      <td>32.731611</td>\n",
       "      <td>-96.709417</td>\n",
       "    </tr>\n",
       "    <tr>\n",
       "      <th>53084</th>\n",
       "      <td>4638472273</td>\n",
       "      <td>6022767590</td>\n",
       "      <td>Missed</td>\n",
       "      <td>2013-02-25</td>\n",
       "      <td>07:07:12.843629</td>\n",
       "      <td>Mon</td>\n",
       "      <td>00:02:31.170958</td>\n",
       "      <td>aeaf8b43-8034-44fe-833d-31854a75acbf</td>\n",
       "      <td>32.731722</td>\n",
       "      <td>-96.709500</td>\n",
       "    </tr>\n",
       "    <tr>\n",
       "      <th>53085</th>\n",
       "      <td>4638472273</td>\n",
       "      <td>4551601645</td>\n",
       "      <td>Incoming</td>\n",
       "      <td>2013-02-25</td>\n",
       "      <td>09:18:31.595568</td>\n",
       "      <td>Mon</td>\n",
       "      <td>00:03:28.390952</td>\n",
       "      <td>78512965-e30b-4734-ae92-47b910fe3d7f</td>\n",
       "      <td>32.899944</td>\n",
       "      <td>-96.910389</td>\n",
       "    </tr>\n",
       "    <tr>\n",
       "      <th>53086</th>\n",
       "      <td>4638472273</td>\n",
       "      <td>7428841195</td>\n",
       "      <td>Incoming</td>\n",
       "      <td>2013-02-25</td>\n",
       "      <td>09:02:01.635228</td>\n",
       "      <td>Mon</td>\n",
       "      <td>00:06:07.663294</td>\n",
       "      <td>fadaa83f-6001-45fd-aa4a-17d6c6b7ec00</td>\n",
       "      <td>32.899944</td>\n",
       "      <td>-96.910389</td>\n",
       "    </tr>\n",
       "    <tr>\n",
       "      <th>53087</th>\n",
       "      <td>4638472273</td>\n",
       "      <td>6250348072</td>\n",
       "      <td>Missed</td>\n",
       "      <td>2013-02-25</td>\n",
       "      <td>12:08:43.318385</td>\n",
       "      <td>Mon</td>\n",
       "      <td>00:04:43.358791</td>\n",
       "      <td>78512965-e30b-4734-ae92-47b910fe3d7f</td>\n",
       "      <td>32.899944</td>\n",
       "      <td>-96.910389</td>\n",
       "    </tr>\n",
       "    <tr>\n",
       "      <th>53088</th>\n",
       "      <td>4638472273</td>\n",
       "      <td>5621270003</td>\n",
       "      <td>Incoming</td>\n",
       "      <td>2013-02-25</td>\n",
       "      <td>22:38:36.119007</td>\n",
       "      <td>Mon</td>\n",
       "      <td>00:04:18.145216</td>\n",
       "      <td>f3f289f5-7d29-4d3f-9b9a-a0ceaca10a1d</td>\n",
       "      <td>32.750556</td>\n",
       "      <td>-96.694722</td>\n",
       "    </tr>\n",
       "    <tr>\n",
       "      <th>53089</th>\n",
       "      <td>4638472273</td>\n",
       "      <td>1755442610</td>\n",
       "      <td>Missed</td>\n",
       "      <td>2013-02-25</td>\n",
       "      <td>08:21:24.857882</td>\n",
       "      <td>Mon</td>\n",
       "      <td>00:05:11.214264</td>\n",
       "      <td>bf3bf815-3795-4be6-bec3-12b8f713e50d</td>\n",
       "      <td>32.899944</td>\n",
       "      <td>-96.910389</td>\n",
       "    </tr>\n",
       "    <tr>\n",
       "      <th>53090</th>\n",
       "      <td>4638472273</td>\n",
       "      <td>6022767590</td>\n",
       "      <td>Missed</td>\n",
       "      <td>2013-02-25</td>\n",
       "      <td>07:58:03.056474</td>\n",
       "      <td>Mon</td>\n",
       "      <td>00:02:24.582661</td>\n",
       "      <td>66e6ccbb-cdf0-4a1a-9d20-7e53e311fc33</td>\n",
       "      <td>32.911583</td>\n",
       "      <td>-96.892222</td>\n",
       "    </tr>\n",
       "    <tr>\n",
       "      <th>53091</th>\n",
       "      <td>4638472273</td>\n",
       "      <td>6150928001</td>\n",
       "      <td>Missed</td>\n",
       "      <td>2013-02-25</td>\n",
       "      <td>16:55:01.129212</td>\n",
       "      <td>Mon</td>\n",
       "      <td>00:02:48.163010</td>\n",
       "      <td>0296279d-18c3-4709-853e-3e20496ce444</td>\n",
       "      <td>32.899944</td>\n",
       "      <td>-96.910389</td>\n",
       "    </tr>\n",
       "    <tr>\n",
       "      <th>53092</th>\n",
       "      <td>4638472273</td>\n",
       "      <td>5621270003</td>\n",
       "      <td>Missed</td>\n",
       "      <td>2013-02-25</td>\n",
       "      <td>17:46:00.315633</td>\n",
       "      <td>Mon</td>\n",
       "      <td>00:04:06.424354</td>\n",
       "      <td>95d7920d-c3cd-4d20-a568-9a55800dc807</td>\n",
       "      <td>32.899944</td>\n",
       "      <td>-96.910389</td>\n",
       "    </tr>\n",
       "    <tr>\n",
       "      <th>53138</th>\n",
       "      <td>4638472273</td>\n",
       "      <td>8068555700</td>\n",
       "      <td>Incoming</td>\n",
       "      <td>2013-02-26</td>\n",
       "      <td>07:28:38.486982</td>\n",
       "      <td>Tue</td>\n",
       "      <td>00:03:51.307727</td>\n",
       "      <td>cd9f3b1a-2eb8-4cdb-86d1-5d4c2740b1dc</td>\n",
       "      <td>32.731722</td>\n",
       "      <td>-96.709500</td>\n",
       "    </tr>\n",
       "    <tr>\n",
       "      <th>53139</th>\n",
       "      <td>4638472273</td>\n",
       "      <td>8068555700</td>\n",
       "      <td>Missed</td>\n",
       "      <td>2013-02-26</td>\n",
       "      <td>20:29:37.809287</td>\n",
       "      <td>Tue</td>\n",
       "      <td>00:03:25.016193</td>\n",
       "      <td>8ba7e0d7-eb6e-4828-9c70-c469954a627d</td>\n",
       "      <td>32.731611</td>\n",
       "      <td>-96.709417</td>\n",
       "    </tr>\n",
       "    <tr>\n",
       "      <th>53140</th>\n",
       "      <td>4638472273</td>\n",
       "      <td>2666307251</td>\n",
       "      <td>Missed</td>\n",
       "      <td>2013-02-26</td>\n",
       "      <td>11:26:01.888502</td>\n",
       "      <td>Tue</td>\n",
       "      <td>00:03:08.177065</td>\n",
       "      <td>0296279d-18c3-4709-853e-3e20496ce444</td>\n",
       "      <td>32.899944</td>\n",
       "      <td>-96.910389</td>\n",
       "    </tr>\n",
       "    <tr>\n",
       "      <th>53141</th>\n",
       "      <td>4638472273</td>\n",
       "      <td>2145623768</td>\n",
       "      <td>Missed</td>\n",
       "      <td>2013-02-26</td>\n",
       "      <td>17:32:18.776276</td>\n",
       "      <td>Tue</td>\n",
       "      <td>00:02:30.823459</td>\n",
       "      <td>78512965-e30b-4734-ae92-47b910fe3d7f</td>\n",
       "      <td>32.899944</td>\n",
       "      <td>-96.910389</td>\n",
       "    </tr>\n",
       "    <tr>\n",
       "      <th>53142</th>\n",
       "      <td>4638472273</td>\n",
       "      <td>4551601645</td>\n",
       "      <td>Incoming</td>\n",
       "      <td>2013-02-26</td>\n",
       "      <td>19:12:44.730636</td>\n",
       "      <td>Tue</td>\n",
       "      <td>00:03:42.954201</td>\n",
       "      <td>8fb02570-fb3f-4381-be74-3e1accf87ec5</td>\n",
       "      <td>32.750556</td>\n",
       "      <td>-96.694722</td>\n",
       "    </tr>\n",
       "    <tr>\n",
       "      <th>53143</th>\n",
       "      <td>4638472273</td>\n",
       "      <td>7721472178</td>\n",
       "      <td>Incoming</td>\n",
       "      <td>2013-02-26</td>\n",
       "      <td>07:50:41.435642</td>\n",
       "      <td>Tue</td>\n",
       "      <td>00:04:04.460385</td>\n",
       "      <td>e78826ad-45b0-45d4-90ec-4776d73f1d8e</td>\n",
       "      <td>32.864167</td>\n",
       "      <td>-96.836944</td>\n",
       "    </tr>\n",
       "    <tr>\n",
       "      <th>53144</th>\n",
       "      <td>4638472273</td>\n",
       "      <td>6150928001</td>\n",
       "      <td>Incoming</td>\n",
       "      <td>2013-02-26</td>\n",
       "      <td>07:49:56.273334</td>\n",
       "      <td>Tue</td>\n",
       "      <td>00:01:35.016406</td>\n",
       "      <td>b0320962-e409-487a-a435-e33ba8123768</td>\n",
       "      <td>32.881111</td>\n",
       "      <td>-96.856389</td>\n",
       "    </tr>\n",
       "  </tbody>\n",
       "</table>\n",
       "<p>3648 rows × 10 columns</p>\n",
       "</div>"
      ],
      "text/plain": [
       "               In         Out Direction   CallDate        CallTime  DOW  \\\n",
       "0      4638472273  2666307251  Incoming 2010-12-25 07:16:24.736813  Sat   \n",
       "1      4638472273  1755442610  Incoming 2010-12-25 21:18:30.053710  Sat   \n",
       "2      4638472273  5481755331  Incoming 2010-12-25 14:52:42.878016  Sat   \n",
       "3      4638472273  1755442610  Incoming 2010-12-25 16:02:09.001913  Sat   \n",
       "4      4638472273  2145623768  Incoming 2010-12-25 15:28:35.028554  Sat   \n",
       "5      4638472273  2946222380  Incoming 2010-12-25 11:38:17.275327  Sat   \n",
       "6      4638472273  7841019020    Missed 2010-12-25 10:38:35.924232  Sat   \n",
       "71     4638472273  5912117253  Incoming 2010-12-26 14:34:27.530327  Sun   \n",
       "72     4638472273  2145623768  Incoming 2010-12-26 20:45:00.306964  Sun   \n",
       "73     4638472273  4551601645    Missed 2010-12-26 16:03:43.841914  Sun   \n",
       "74     4638472273  6250348072  Incoming 2010-12-26 18:30:28.968794  Sun   \n",
       "75     4638472273  8180005891  Incoming 2010-12-26 19:19:23.380844  Sun   \n",
       "76     4638472273  7922223441    Missed 2010-12-26 20:10:13.924779  Sun   \n",
       "77     4638472273  5481755331  Incoming 2010-12-26 16:01:49.310880  Sun   \n",
       "78     4638472273  5912117253  Incoming 2010-12-26 18:29:45.558560  Sun   \n",
       "161    4638472273  5912117253    Missed 2010-12-27 18:41:14.639828  Mon   \n",
       "194    4638472273  4217121115  Incoming 2010-12-28 21:36:14.190286  Tue   \n",
       "195    4638472273  6022767590  Incoming 2010-12-28 19:57:19.501140  Tue   \n",
       "196    4638472273  5621270003  Incoming 2010-12-28 17:10:15.465881  Tue   \n",
       "197    4638472273  5481755331  Incoming 2010-12-28 16:20:11.532130  Tue   \n",
       "198    4638472273  7756914135  Incoming 2010-12-28 19:41:43.122708  Tue   \n",
       "199    4638472273  6150928001  Incoming 2010-12-28 18:05:51.247679  Tue   \n",
       "200    4638472273  8180005891  Incoming 2010-12-28 15:27:51.105337  Tue   \n",
       "201    4638472273  6022767590    Missed 2010-12-28 20:43:50.766312  Tue   \n",
       "245    4638472273  2666307251  Incoming 2010-12-29 18:20:56.628554  Wed   \n",
       "246    4638472273  8068555700    Missed 2010-12-29 17:59:50.895586  Wed   \n",
       "247    4638472273  4551601645  Incoming 2010-12-29 19:16:16.463142  Wed   \n",
       "248    4638472273  8180005891    Missed 2010-12-29 09:13:35.198987  Wed   \n",
       "249    4638472273  2145623768  Incoming 2010-12-29 06:02:11.319738  Wed   \n",
       "250    4638472273  8068555700  Incoming 2010-12-29 13:54:14.724722  Wed   \n",
       "...           ...         ...       ...        ...             ...  ...   \n",
       "52881  4638472273  7922223441  Incoming 2013-02-22 16:55:07.961312  Fri   \n",
       "52882  4638472273  7756914135    Missed 2013-02-22 19:37:10.037669  Fri   \n",
       "52883  4638472273  8068555700  Incoming 2013-02-22 09:55:01.616595  Fri   \n",
       "52958  4638472273  4551601645    Missed 2013-02-23 15:20:11.273893  Sat   \n",
       "52959  4638472273  8068555700  Incoming 2013-02-23 15:00:49.133445  Sat   \n",
       "52960  4638472273  2145623768  Incoming 2013-02-23 08:55:50.559529  Sat   \n",
       "52961  4638472273  2666307251  Incoming 2013-02-23 10:38:12.502505  Sat   \n",
       "52962  4638472273  7756914135    Missed 2013-02-23 09:46:14.496592  Sat   \n",
       "52963  4638472273  4551601645  Incoming 2013-02-23 15:15:09.466844  Sat   \n",
       "52964  4638472273  6022767590  Incoming 2013-02-23 16:12:12.701600  Sat   \n",
       "52965  4638472273  5621270003  Incoming 2013-02-23 09:11:21.606945  Sat   \n",
       "53022  4638472273  7756914135  Incoming 2013-02-24 16:49:42.830258  Sun   \n",
       "53023  4638472273  7721472178  Incoming 2013-02-24 10:32:55.146952  Sun   \n",
       "53024  4638472273  1755442610    Missed 2013-02-24 21:04:47.567403  Sun   \n",
       "53084  4638472273  6022767590    Missed 2013-02-25 07:07:12.843629  Mon   \n",
       "53085  4638472273  4551601645  Incoming 2013-02-25 09:18:31.595568  Mon   \n",
       "53086  4638472273  7428841195  Incoming 2013-02-25 09:02:01.635228  Mon   \n",
       "53087  4638472273  6250348072    Missed 2013-02-25 12:08:43.318385  Mon   \n",
       "53088  4638472273  5621270003  Incoming 2013-02-25 22:38:36.119007  Mon   \n",
       "53089  4638472273  1755442610    Missed 2013-02-25 08:21:24.857882  Mon   \n",
       "53090  4638472273  6022767590    Missed 2013-02-25 07:58:03.056474  Mon   \n",
       "53091  4638472273  6150928001    Missed 2013-02-25 16:55:01.129212  Mon   \n",
       "53092  4638472273  5621270003    Missed 2013-02-25 17:46:00.315633  Mon   \n",
       "53138  4638472273  8068555700  Incoming 2013-02-26 07:28:38.486982  Tue   \n",
       "53139  4638472273  8068555700    Missed 2013-02-26 20:29:37.809287  Tue   \n",
       "53140  4638472273  2666307251    Missed 2013-02-26 11:26:01.888502  Tue   \n",
       "53141  4638472273  2145623768    Missed 2013-02-26 17:32:18.776276  Tue   \n",
       "53142  4638472273  4551601645  Incoming 2013-02-26 19:12:44.730636  Tue   \n",
       "53143  4638472273  7721472178  Incoming 2013-02-26 07:50:41.435642  Tue   \n",
       "53144  4638472273  6150928001  Incoming 2013-02-26 07:49:56.273334  Tue   \n",
       "\n",
       "             Duration                               TowerID   TowerLat  \\\n",
       "0     00:02:41.741499  0db53dd3-eb9c-4344-abc5-c2d74ebc3eec  32.731611   \n",
       "1     00:02:47.108750  aeaf8b43-8034-44fe-833d-31854a75acbf  32.731722   \n",
       "2     00:04:35.356341  fadaa83f-6001-45fd-aa4a-17d6c6b7ec00  32.899944   \n",
       "3     00:02:23.498499  fadaa83f-6001-45fd-aa4a-17d6c6b7ec00  32.899944   \n",
       "4     00:03:54.692497  95d7920d-c3cd-4d20-a568-9a55800dc807  32.899944   \n",
       "5     00:03:06.670355  95c91e8b-6ff1-4893-9df3-b0342636bd25  32.899944   \n",
       "6     00:02:02.855268  fadaa83f-6001-45fd-aa4a-17d6c6b7ec00  32.899944   \n",
       "71    00:06:34.154104  84844bb1-1d36-4401-abf4-a3c566c07630  32.895833   \n",
       "72    00:03:35.283608  26f7441e-e64b-4b9d-8c5a-0eb34f7e919f  32.731611   \n",
       "73    00:04:15.182895  bf3bf815-3795-4be6-bec3-12b8f713e50d  32.899944   \n",
       "74    00:02:52.395467  aeaf8b43-8034-44fe-833d-31854a75acbf  32.731722   \n",
       "75    00:03:45.783299  cd9f3b1a-2eb8-4cdb-86d1-5d4c2740b1dc  32.731722   \n",
       "76    00:02:49.402318  0db53dd3-eb9c-4344-abc5-c2d74ebc3eec  32.731611   \n",
       "77    00:05:32.498983  fadaa83f-6001-45fd-aa4a-17d6c6b7ec00  32.899944   \n",
       "78    00:02:57.914809  f9a9468b-dca3-4510-8fc1-1cba8dc77882  32.753500   \n",
       "161   00:00:20.304073  09756fb6-223f-43e9-9402-9b90c7048639  32.805667   \n",
       "194   00:05:56.080785  bcec0121-164d-406c-8c04-d12870893992  32.731611   \n",
       "195   00:02:38.219371  bcec0121-164d-406c-8c04-d12870893992  32.731611   \n",
       "196   00:01:56.250335  78512965-e30b-4734-ae92-47b910fe3d7f  32.899944   \n",
       "197   00:03:56.069765  95d7920d-c3cd-4d20-a568-9a55800dc807  32.899944   \n",
       "198   00:05:08.460490  0db53dd3-eb9c-4344-abc5-c2d74ebc3eec  32.731611   \n",
       "199   00:04:13.034708  f9a9468b-dca3-4510-8fc1-1cba8dc77882  32.753500   \n",
       "200   00:03:30.047757  95c91e8b-6ff1-4893-9df3-b0342636bd25  32.899944   \n",
       "201   00:03:23.651369  cd9f3b1a-2eb8-4cdb-86d1-5d4c2740b1dc  32.731722   \n",
       "245   00:03:55.018670  f9a9468b-dca3-4510-8fc1-1cba8dc77882  32.753500   \n",
       "246   00:03:40.818226  fadaa83f-6001-45fd-aa4a-17d6c6b7ec00  32.899944   \n",
       "247   00:04:20.380243  0db53dd3-eb9c-4344-abc5-c2d74ebc3eec  32.731611   \n",
       "248   00:02:10.574446  95c91e8b-6ff1-4893-9df3-b0342636bd25  32.899944   \n",
       "249   00:04:34.436752  9baa92e7-e990-4e9e-8c0a-4c17cb4ecc7c  32.731611   \n",
       "250   00:03:31.297111  fadaa83f-6001-45fd-aa4a-17d6c6b7ec00  32.899944   \n",
       "...               ...                                   ...        ...   \n",
       "52881 00:01:19.307088  fadaa83f-6001-45fd-aa4a-17d6c6b7ec00  32.899944   \n",
       "52882 00:01:58.418414  aeaf8b43-8034-44fe-833d-31854a75acbf  32.731722   \n",
       "52883 00:06:24.099736  78512965-e30b-4734-ae92-47b910fe3d7f  32.899944   \n",
       "52958 00:02:53.462583  0296279d-18c3-4709-853e-3e20496ce444  32.899944   \n",
       "52959 00:02:27.015023  0296279d-18c3-4709-853e-3e20496ce444  32.899944   \n",
       "52960 00:02:25.942647  95c91e8b-6ff1-4893-9df3-b0342636bd25  32.899944   \n",
       "52961 00:05:23.225719  0296279d-18c3-4709-853e-3e20496ce444  32.899944   \n",
       "52962 00:04:55.466350  0296279d-18c3-4709-853e-3e20496ce444  32.899944   \n",
       "52963 00:04:20.339683  0296279d-18c3-4709-853e-3e20496ce444  32.899944   \n",
       "52964 00:02:21.278138  fadaa83f-6001-45fd-aa4a-17d6c6b7ec00  32.899944   \n",
       "52965 00:03:19.757526  fadaa83f-6001-45fd-aa4a-17d6c6b7ec00  32.899944   \n",
       "53022 00:02:19.285474  fadaa83f-6001-45fd-aa4a-17d6c6b7ec00  32.899944   \n",
       "53023 00:00:04.908620  fadaa83f-6001-45fd-aa4a-17d6c6b7ec00  32.899944   \n",
       "53024 00:02:26.051783  bcec0121-164d-406c-8c04-d12870893992  32.731611   \n",
       "53084 00:02:31.170958  aeaf8b43-8034-44fe-833d-31854a75acbf  32.731722   \n",
       "53085 00:03:28.390952  78512965-e30b-4734-ae92-47b910fe3d7f  32.899944   \n",
       "53086 00:06:07.663294  fadaa83f-6001-45fd-aa4a-17d6c6b7ec00  32.899944   \n",
       "53087 00:04:43.358791  78512965-e30b-4734-ae92-47b910fe3d7f  32.899944   \n",
       "53088 00:04:18.145216  f3f289f5-7d29-4d3f-9b9a-a0ceaca10a1d  32.750556   \n",
       "53089 00:05:11.214264  bf3bf815-3795-4be6-bec3-12b8f713e50d  32.899944   \n",
       "53090 00:02:24.582661  66e6ccbb-cdf0-4a1a-9d20-7e53e311fc33  32.911583   \n",
       "53091 00:02:48.163010  0296279d-18c3-4709-853e-3e20496ce444  32.899944   \n",
       "53092 00:04:06.424354  95d7920d-c3cd-4d20-a568-9a55800dc807  32.899944   \n",
       "53138 00:03:51.307727  cd9f3b1a-2eb8-4cdb-86d1-5d4c2740b1dc  32.731722   \n",
       "53139 00:03:25.016193  8ba7e0d7-eb6e-4828-9c70-c469954a627d  32.731611   \n",
       "53140 00:03:08.177065  0296279d-18c3-4709-853e-3e20496ce444  32.899944   \n",
       "53141 00:02:30.823459  78512965-e30b-4734-ae92-47b910fe3d7f  32.899944   \n",
       "53142 00:03:42.954201  8fb02570-fb3f-4381-be74-3e1accf87ec5  32.750556   \n",
       "53143 00:04:04.460385  e78826ad-45b0-45d4-90ec-4776d73f1d8e  32.864167   \n",
       "53144 00:01:35.016406  b0320962-e409-487a-a435-e33ba8123768  32.881111   \n",
       "\n",
       "        TowerLon  \n",
       "0     -96.709417  \n",
       "1     -96.709500  \n",
       "2     -96.910389  \n",
       "3     -96.910389  \n",
       "4     -96.910389  \n",
       "5     -96.910389  \n",
       "6     -96.910389  \n",
       "71    -96.901944  \n",
       "72    -96.709417  \n",
       "73    -96.910389  \n",
       "74    -96.709500  \n",
       "75    -96.709500  \n",
       "76    -96.709417  \n",
       "77    -96.910389  \n",
       "78    -96.742528  \n",
       "161   -96.796667  \n",
       "194   -96.709417  \n",
       "195   -96.709417  \n",
       "196   -96.910389  \n",
       "197   -96.910389  \n",
       "198   -96.709417  \n",
       "199   -96.742528  \n",
       "200   -96.910389  \n",
       "201   -96.709500  \n",
       "245   -96.742528  \n",
       "246   -96.910389  \n",
       "247   -96.709417  \n",
       "248   -96.910389  \n",
       "249   -96.709417  \n",
       "250   -96.910389  \n",
       "...          ...  \n",
       "52881 -96.910389  \n",
       "52882 -96.709500  \n",
       "52883 -96.910389  \n",
       "52958 -96.910389  \n",
       "52959 -96.910389  \n",
       "52960 -96.910389  \n",
       "52961 -96.910389  \n",
       "52962 -96.910389  \n",
       "52963 -96.910389  \n",
       "52964 -96.910389  \n",
       "52965 -96.910389  \n",
       "53022 -96.910389  \n",
       "53023 -96.910389  \n",
       "53024 -96.709417  \n",
       "53084 -96.709500  \n",
       "53085 -96.910389  \n",
       "53086 -96.910389  \n",
       "53087 -96.910389  \n",
       "53088 -96.694722  \n",
       "53089 -96.910389  \n",
       "53090 -96.892222  \n",
       "53091 -96.910389  \n",
       "53092 -96.910389  \n",
       "53138 -96.709500  \n",
       "53139 -96.709417  \n",
       "53140 -96.910389  \n",
       "53141 -96.910389  \n",
       "53142 -96.694722  \n",
       "53143 -96.836944  \n",
       "53144 -96.856389  \n",
       "\n",
       "[3648 rows x 10 columns]"
      ]
     },
     "execution_count": 31,
     "metadata": {},
     "output_type": "execute_result"
    }
   ],
   "source": [
    "# .. your code here ..\n",
    "user1 = df[df.In == people[0]]"
   ]
  },
  {
   "cell_type": "markdown",
   "metadata": {},
   "source": [
    "Let's go ahead and plot all the call locations:"
   ]
  },
  {
   "cell_type": "code",
   "execution_count": 32,
   "metadata": {
    "collapsed": false
   },
   "outputs": [
    {
     "data": {
      "image/png": "[encoded data removed]",
      "text/plain": [
       "<matplotlib.figure.Figure at 0x25e0048d3c8>"
      ]
     },
     "metadata": {},
     "output_type": "display_data"
    }
   ],
   "source": [
    "user1.plot.scatter(x='TowerLon', y='TowerLat', c='gray', alpha=0.1, title='Call Locations')\n",
    "plt.show()"
   ]
  },
  {
   "cell_type": "markdown",
   "metadata": {
    "collapsed": false
   },
   "source": [
    "INFO: The locations map above should be too \"busy\" to really wrap your head around. This is where domain expertise comes into play. Your intuition can direct you by knowing people are likely to behave differently on weekends vs on weekdays:\n",
    "\n",
    "#### On Weekends\n",
    "1. People probably don't go into work\n",
    "1. They probably sleep in late on Saturday\n",
    "1. They probably run a bunch of random errands, since they couldn't during the week\n",
    "1. They should be home, at least during the very late hours, e.g. 1-4 AM\n",
    "\n",
    "#### On Weekdays\n",
    "1. People probably are at work during normal working hours\n",
    "1. They probably are at home in the early morning and during the late night\n",
    "1. They probably spend time commuting between work and home everyday"
   ]
  },
  {
   "cell_type": "markdown",
   "metadata": {},
   "source": [
    "Add more filters to the `user1` slice you created. Add bitwise logic so that you only examine records that _came in_ on weekends (sat/sun):"
   ]
  },
  {
   "cell_type": "code",
   "execution_count": 35,
   "metadata": {
    "collapsed": false
   },
   "outputs": [
    {
     "data": {
      "text/plain": [
       "1141"
      ]
     },
     "execution_count": 35,
     "metadata": {},
     "output_type": "execute_result"
    }
   ],
   "source": [
    "# .. your code here ..\n",
    "user1 = df[(df.In == people[0]) & ((df.DOW == 'Sat') | (df.DOW == 'Sun'))]\n",
    "len(user1)"
   ]
  },
  {
   "cell_type": "markdown",
   "metadata": {
    "collapsed": true
   },
   "source": [
    "Further filter `user1` down for calls that came in either before 6AM OR after 10pm (22:00:00). Even if you didn't convert your times from string objects to timedeltas, you can still use `<` and `>` to compare the string times as long as you code them as [military time strings](https://en.wikipedia.org/wiki/24-hour_clock), eg: \"06:00:00\", \"22:00:00\": \n",
    "\n",
    "You may also want to review the Data Manipulation section for this. Once you have your filtered slice, print out its length:"
   ]
  },
  {
   "cell_type": "code",
   "execution_count": 37,
   "metadata": {
    "collapsed": false
   },
   "outputs": [
    {
     "data": {
      "text/plain": [
       "28"
      ]
     },
     "execution_count": 37,
     "metadata": {},
     "output_type": "execute_result"
    }
   ],
   "source": [
    "# .. your code here ..\n",
    "user1 = df[(df.In == people[0]) & ((df.DOW == 'Sat') | (df.DOW == 'Sun')) & ( (df.CallTime < '06:00:00') | (df.CallTime > '22:00:00') )]\n",
    "len(user1)"
   ]
  },
  {
   "cell_type": "markdown",
   "metadata": {},
   "source": [
    "Visualize the dataframe with a scatter plot as a sanity check. Since you're [familiar with maps](https://en.wikipedia.org/wiki/Geographic_coordinate_system#Geographic_latitude_and_longitude), you know well that your X-Coordinate should be Longitude, and your Y coordinate should be the tower Latitude. Check the dataset headers for proper column feature names.\n",
    " \n",
    "At this point, you don't yet know exactly where the user is located just based off the cell phone tower position data; but considering the below are for Calls that arrived in the twilight hours of weekends, it's likely that wherever they are bunched up is probably near where the caller's residence:"
   ]
  },
  {
   "cell_type": "code",
   "execution_count": 38,
   "metadata": {
    "collapsed": false
   },
   "outputs": [
    {
     "data": {
      "image/png": "[encoded data removed]",
      "text/plain": [
       "<matplotlib.figure.Figure at 0x25e00785278>"
      ]
     },
     "metadata": {},
     "output_type": "display_data"
    }
   ],
   "source": [
    "fig = plt.figure()\n",
    "ax = fig.add_subplot(111)\n",
    "ax.scatter(user1.TowerLon,user1.TowerLat, c='g', marker='o', alpha=0.2)\n",
    "ax.set_title('Weekend Calls (<6am or >10p)')\n",
    "plt.show()"
   ]
  },
  {
   "cell_type": "markdown",
   "metadata": {},
   "source": [
    "Run K-Means with a `K=1`. There really should only be a single area of concentration. If you notice multiple areas that are \"hot\" (multiple areas the user spends a lot of time at that are FAR apart from one another), then increase `K=2`, with the goal being that one of the centroids will sweep up the annoying outliers; and the other will zero in on the user's approximate home location. Or rather the location of the cell tower closest to their home.....\n",
    "\n",
    "Be sure to only feed in Lat and Lon coordinates to the KMeans algorithm, since none of the other data is suitable for your purposes. Since both Lat and Lon are (approximately) on the same scale, no feature scaling is required. Print out the centroid locations and add them onto your scatter plot. Use a distinguishable marker and color.\n",
    "\n",
    "Hint: Make sure you graph the CORRECT coordinates. This is part of your domain expertise."
   ]
  },
  {
   "cell_type": "code",
   "execution_count": 42,
   "metadata": {
    "collapsed": false
   },
   "outputs": [
    {
     "name": "stdout",
     "output_type": "stream",
     "text": [
      "[[-96.70839404  32.73299989]]\n"
     ]
    },
    {
     "data": {
      "text/plain": [
       "<matplotlib.collections.PathCollection at 0x25e00a81438>"
      ]
     },
     "execution_count": 42,
     "metadata": {},
     "output_type": "execute_result"
    }
   ],
   "source": [
    "# .. your code here ..\n",
    "\n",
    "user1 = user1[['TowerLon','TowerLat']]\n",
    "    \n",
    "model = KMeans(n_clusters=1)\n",
    "model.fit(user1)\n",
    "    \n",
    "# Now we can print and plot the centroids:\n",
    "centroids = model.cluster_centers_\n",
    "print(centroids)\n",
    "\n",
    "fig = plt.figure()\n",
    "ax = fig.add_subplot(111)\n",
    "ax.scatter(centroids[:,0], centroids[:,1], marker='x', c='red', alpha=0.5, linewidths=3, s=169)\n"
   ]
  },
  {
   "cell_type": "code",
   "execution_count": 43,
   "metadata": {
    "collapsed": false
   },
   "outputs": [
    {
     "data": {
      "image/png": "[encoded data removed]",
      "text/plain": [
       "<matplotlib.figure.Figure at 0x25e00a865c0>"
      ]
     },
     "metadata": {},
     "output_type": "display_data"
    }
   ],
   "source": [
    "plt.show()"
   ]
  },
  {
   "cell_type": "markdown",
   "metadata": {},
   "source": [
    "Now that you have a system in place, repeat the above steps for all 10 individuals in the dataset, being sure to record their approximate home locations. You might want to use a for-loop, unless you enjoy copying and pasting:"
   ]
  },
  {
   "cell_type": "code",
   "execution_count": 48,
   "metadata": {
    "collapsed": false
   },
   "outputs": [
    {
     "name": "stdout",
     "output_type": "stream",
     "text": [
      "[[-96.70839404  32.73299989]]\n",
      "[[-96.92355165  32.87097035]]\n",
      "[[-96.86526087  32.86557287]]\n",
      "[[-96.83577361  32.84688271]]\n",
      "[[-96.73155696  32.87684057]]\n",
      "[[-96.685556  32.770833]]\n",
      "[[-96.84065775  32.70437017]]\n",
      "[[-96.604444  32.703056]]\n",
      "[[-96.81476225  32.77267817]]\n",
      "[[-96.78028103  32.77609108]]\n"
     ]
    },
    {
     "data": {
      "image/png": "[encoded data removed]",
      "text/plain": [
       "<matplotlib.figure.Figure at 0x25e00ec0940>"
      ]
     },
     "metadata": {},
     "output_type": "display_data"
    },
    {
     "data": {
      "image/png": "[encoded data removed]",
      "text/plain": [
       "<matplotlib.figure.Figure at 0x25e00f330b8>"
      ]
     },
     "metadata": {},
     "output_type": "display_data"
    },
    {
     "data": {
      "image/png": "[encoded data removed]",
      "text/plain": [
       "<matplotlib.figure.Figure at 0x25e00eee8d0>"
      ]
     },
     "metadata": {},
     "output_type": "display_data"
    },
    {
     "data": {
      "image/png": "[encoded data removed]",
      "text/plain": [
       "<matplotlib.figure.Figure at 0x25e01003c50>"
      ]
     },
     "metadata": {},
     "output_type": "display_data"
    },
    {
     "data": {
      "image/png": "[encoded data removed]",
      "text/plain": [
       "<matplotlib.figure.Figure at 0x25e0101d7b8>"
      ]
     },
     "metadata": {},
     "output_type": "display_data"
    },
    {
     "data": {
      "image/png": "[encoded data removed]",
      "text/plain": [
       "<matplotlib.figure.Figure at 0x25e010e12b0>"
      ]
     },
     "metadata": {},
     "output_type": "display_data"
    },
    {
     "data": {
      "image/png": "[encoded data removed]",
      "text/plain": [
       "<matplotlib.figure.Figure at 0x25e010a0240>"
      ]
     },
     "metadata": {},
     "output_type": "display_data"
    },
    {
     "data": {
      "image/png": "[encoded data removed]",
      "text/plain": [
       "<matplotlib.figure.Figure at 0x25e011b4550>"
      ]
     },
     "metadata": {},
     "output_type": "display_data"
    },
    {
     "data": {
      "image/png": "[encoded data removed]",
      "text/plain": [
       "<matplotlib.figure.Figure at 0x25e01174860>"
      ]
     },
     "metadata": {},
     "output_type": "display_data"
    },
    {
     "data": {
      "image/png": "[encoded data removed]",
      "text/plain": [
       "<matplotlib.figure.Figure at 0x25e027a69b0>"
      ]
     },
     "metadata": {},
     "output_type": "display_data"
    }
   ],
   "source": [
    "# .. your code here ..\n",
    "\n",
    "for p in people:\n",
    "    user1 = df[(df.In == p) & ((df.DOW == 'Sat') | (df.DOW == 'Sun')) & ( (df.CallTime < '06:00:00') | (df.CallTime > '22:00:00') )]\n",
    "    \n",
    "    user1 = user1[['TowerLon','TowerLat']]\n",
    "    \n",
    "    model = KMeans(n_clusters=1)\n",
    "    model.fit(user1)\n",
    "    \n",
    "    # Now we can print and plot the centroids:\n",
    "    centroids = model.cluster_centers_\n",
    "    print(centroids)\n",
    "\n",
    "    fig = plt.figure()\n",
    "    ax = fig.add_subplot(111)\n",
    "    ax.scatter(centroids[:,0], centroids[:,1], marker='x', c='red', alpha=0.5, linewidths=3, s=169)\n",
    "\n",
    "plt.show()"
   ]
  },
  {
   "cell_type": "code",
   "execution_count": 45,
   "metadata": {
    "collapsed": false
   },
   "outputs": [
    {
     "data": {
      "text/plain": [
       "10"
      ]
     },
     "execution_count": 45,
     "metadata": {},
     "output_type": "execute_result"
    }
   ],
   "source": [
    "len(people)"
   ]
  },
  {
   "cell_type": "code",
   "execution_count": 47,
   "metadata": {
    "collapsed": false
   },
   "outputs": [
    {
     "data": {
      "text/plain": [
       "4638472273"
      ]
     },
     "execution_count": 47,
     "metadata": {},
     "output_type": "execute_result"
    }
   ],
   "source": [
    "people[0]"
   ]
  }
 ],
 "metadata": {
  "anaconda-cloud": {},
  "kernelspec": {
   "display_name": "Python 3",
   "language": "python",
   "name": "python3"
  },
  "language_info": {
   "codemirror_mode": {
    "name": "ipython",
    "version": 3
   },
   "file_extension": ".py",
   "mimetype": "text/x-python",
   "name": "python",
   "nbconvert_exporter": "python",
   "pygments_lexer": "ipython3",
   "version": "3.6.0"
  },
  "toc": {
   "colors": {
    "hover_highlight": "#DAA520",
    "running_highlight": "#FF0000",
    "selected_highlight": "#FFD700"
   },
   "moveMenuLeft": true,
   "nav_menu": {
    "height": "58px",
    "width": "252px"
   },
   "navigate_menu": true,
   "number_sections": true,
   "sideBar": true,
   "threshold": 4,
   "toc_cell": false,
   "toc_section_display": "block",
   "toc_window_display": false,
   "widenNotebook": false
  }
 },
 "nbformat": 4,
 "nbformat_minor": 2
}
