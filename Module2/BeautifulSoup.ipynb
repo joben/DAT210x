{
 "cells": [
  {
   "cell_type": "code",
   "execution_count": 1,
   "metadata": {
    "collapsed": true
   },
   "outputs": [],
   "source": [
    "import requests\n",
    "from bs4 import BeautifulSoup"
   ]
  },
  {
   "cell_type": "code",
   "execution_count": 2,
   "metadata": {
    "collapsed": false
   },
   "outputs": [],
   "source": [
    "url = \"http://www.fifa.com/worldcup/\"\n",
    "r = requests.get(url)\n",
    "html_content = r.text\n",
    "soup = BeautifulSoup(html_content, 'lxml')"
   ]
  },
  {
   "cell_type": "code",
   "execution_count": 4,
   "metadata": {
    "collapsed": false
   },
   "outputs": [
    {
     "data": {
      "text/plain": [
       "'2018 FIFA World Cup Russia™  - FIFA.com'"
      ]
     },
     "execution_count": 4,
     "metadata": {},
     "output_type": "execute_result"
    }
   ],
   "source": [
    "soup.title.string"
   ]
  },
  {
   "cell_type": "code",
   "execution_count": 5,
   "metadata": {
    "collapsed": false
   },
   "outputs": [
    {
     "data": {
      "text/plain": [
       "<p class=\"d3-o-media-object__summary fi-cookie-banner__text\">We use \"cookies\" to collect information. Click here to read more.</p>"
      ]
     },
     "execution_count": 5,
     "metadata": {},
     "output_type": "execute_result"
    }
   ],
   "source": [
    "soup.p"
   ]
  },
  {
   "cell_type": "code",
   "execution_count": 6,
   "metadata": {
    "collapsed": false
   },
   "outputs": [
    {
     "data": {
      "text/plain": [
       "[<a class=\"fi-cookie-banner__content\" href=\"/legal/privacy-policy.html\">\n",
       " <p class=\"d3-o-media-object__summary fi-cookie-banner__text\">We use \"cookies\" to collect information. Click here to read more.</p>\n",
       " </a>, <a class=\"fi-site-brand__logo\" href=\"/\">\n",
       " </a>, <a href=\"/live-scores/\" title=\"Live Scores\">\n",
       " <svg class=\"fi-svg-icon icon-ball\"><use xlink:href=\"#icon-ball\"></use></svg>\n",
       " </a>, <a href=\"http://store.fifa.com/\" title=\"Store\">\n",
       " <svg class=\"fi-svg-icon icon-basket\"><use xlink:href=\"#icon-basket\"></use></svg>\n",
       " </a>, <a data-dropdown=\"fi-site-header__dropdown__login\" href=\"#\" title=\"Login\">\n",
       " <svg class=\"fi-svg-icon icon-login\"><use xlink:href=\"#icon-login\"></use></svg>\n",
       " </a>]"
      ]
     },
     "execution_count": 6,
     "metadata": {},
     "output_type": "execute_result"
    }
   ],
   "source": [
    "soup.find_all('a')[0:5]"
   ]
  },
  {
   "cell_type": "code",
   "execution_count": 9,
   "metadata": {
    "collapsed": false
   },
   "outputs": [
    {
     "data": {
      "text/plain": [
       "[<img alt=\"The Club\" class=\"fi-login__theclub-logo\" src=\"/assets/img/theClub.png\"/>,\n",
       " <img class=\"fi-login__avatar\"/>,\n",
       " <img class=\"fi-section-header__emblem__img emblem-workaround\" src=\"https://fsprdcdnpublic.azureedge.net/global-pictures/tournaments-sq-4/254645_w\"/>,\n",
       " <img class=\"img-responsive lazyload\" data-src=\"https://img.fifa.com/image/upload/t_s2/tilelewsfrtdqvxu5mf7.jpg\" onerror=\"setDefaultPicture(this,'t_tc1', 't_tc1', 't_l2', 't_s2');\"/>,\n",
       " <img class=\"image-r image-responsive\" src=\"https://img.fifa.com/image/upload/t_tc1/tilelewsfrtdqvxu5mf7.jpg\"/>,\n",
       " <img class=\"img-responsive lazyload\" data-src=\"https://img.fifa.com/image/upload/t_s2/fvzyb4tuyjyr5uwgutnw.jpg\" onerror=\"setDefaultPicture(this,'t_tc1', 't_tc1', 't_l2', 't_s2');\"/>,\n",
       " <img class=\"image-r image-responsive\" src=\"https://img.fifa.com/image/upload/t_tc1/fvzyb4tuyjyr5uwgutnw.jpg\"/>,\n",
       " <img class=\"img-responsive lazyload\" data-src=\"https://img.fifa.com/image/upload/t_s2/teaf9ko2qt8wedadlz7m.jpg\" onerror=\"setDefaultPicture(this,'t_tc1', 't_tc1', 't_l2', 't_s2');\"/>,\n",
       " <img class=\"image-r image-responsive\" src=\"https://img.fifa.com/image/upload/t_tc1/teaf9ko2qt8wedadlz7m.jpg\"/>,\n",
       " <img alt=\"Hublot watch\" src=\"/assets/img/sponsors/hublot_watch_cropped.png\"/>,\n",
       " <img alt=\"RUS\" class=\"fi-RUS fi-flag--3\" src=\"https://fsprdcdnpublic.azureedge.net/global-pictures/flags-fwc2018-3/rus\" title=\"RUS\"/>,\n",
       " <img alt=\"KSA\" class=\"fi-KSA fi-flag--3\" src=\"https://fsprdcdnpublic.azureedge.net/global-pictures/flags-fwc2018-3/ksa\" title=\"KSA\"/>,\n",
       " <img alt=\"EGY\" class=\"fi-EGY fi-flag--3\" src=\"https://fsprdcdnpublic.azureedge.net/global-pictures/flags-fwc2018-3/egy\" title=\"EGY\"/>,\n",
       " <img alt=\"URU\" class=\"fi-URU fi-flag--3\" src=\"https://fsprdcdnpublic.azureedge.net/global-pictures/flags-fwc2018-3/uru\" title=\"URU\"/>,\n",
       " <img alt=\"POR\" class=\"fi-POR fi-flag--3\" src=\"https://fsprdcdnpublic.azureedge.net/global-pictures/flags-fwc2018-3/por\" title=\"POR\"/>,\n",
       " <img alt=\"ESP\" class=\"fi-ESP fi-flag--3\" src=\"https://fsprdcdnpublic.azureedge.net/global-pictures/flags-fwc2018-3/esp\" title=\"ESP\"/>,\n",
       " <img alt=\"MAR\" class=\"fi-MAR fi-flag--3\" src=\"https://fsprdcdnpublic.azureedge.net/global-pictures/flags-fwc2018-3/mar\" title=\"MAR\"/>,\n",
       " <img alt=\"IRN\" class=\"fi-IRN fi-flag--3\" src=\"https://fsprdcdnpublic.azureedge.net/global-pictures/flags-fwc2018-3/irn\" title=\"IRN\"/>,\n",
       " <img alt=\"FRA\" class=\"fi-FRA fi-flag--3\" src=\"https://fsprdcdnpublic.azureedge.net/global-pictures/flags-fwc2018-3/fra\" title=\"FRA\"/>,\n",
       " <img alt=\"AUS\" class=\"fi-AUS fi-flag--3\" src=\"https://fsprdcdnpublic.azureedge.net/global-pictures/flags-fwc2018-3/aus\" title=\"AUS\"/>,\n",
       " <img alt=\"PER\" class=\"fi-PER fi-flag--3\" src=\"https://fsprdcdnpublic.azureedge.net/global-pictures/flags-fwc2018-3/per\" title=\"PER\"/>,\n",
       " <img alt=\"DEN\" class=\"fi-DEN fi-flag--3\" src=\"https://fsprdcdnpublic.azureedge.net/global-pictures/flags-fwc2018-3/den\" title=\"DEN\"/>,\n",
       " <img alt=\"ARG\" class=\"fi-ARG fi-flag--3\" src=\"https://fsprdcdnpublic.azureedge.net/global-pictures/flags-fwc2018-3/arg\" title=\"ARG\"/>,\n",
       " <img alt=\"ISL\" class=\"fi-ISL fi-flag--3\" src=\"https://fsprdcdnpublic.azureedge.net/global-pictures/flags-fwc2018-3/isl\" title=\"ISL\"/>,\n",
       " <img alt=\"CRO\" class=\"fi-CRO fi-flag--3\" src=\"https://fsprdcdnpublic.azureedge.net/global-pictures/flags-fwc2018-3/cro\" title=\"CRO\"/>,\n",
       " <img alt=\"NGA\" class=\"fi-NGA fi-flag--3\" src=\"https://fsprdcdnpublic.azureedge.net/global-pictures/flags-fwc2018-3/nga\" title=\"NGA\"/>,\n",
       " <img alt=\"BRA\" class=\"fi-BRA fi-flag--3\" src=\"https://fsprdcdnpublic.azureedge.net/global-pictures/flags-fwc2018-3/bra\" title=\"BRA\"/>,\n",
       " <img alt=\"SUI\" class=\"fi-SUI fi-flag--3\" src=\"https://fsprdcdnpublic.azureedge.net/global-pictures/flags-fwc2018-3/sui\" title=\"SUI\"/>,\n",
       " <img alt=\"CRC\" class=\"fi-CRC fi-flag--3\" src=\"https://fsprdcdnpublic.azureedge.net/global-pictures/flags-fwc2018-3/crc\" title=\"CRC\"/>,\n",
       " <img alt=\"SRB\" class=\"fi-SRB fi-flag--3\" src=\"https://fsprdcdnpublic.azureedge.net/global-pictures/flags-fwc2018-3/srb\" title=\"SRB\"/>,\n",
       " <img alt=\"GER\" class=\"fi-GER fi-flag--3\" src=\"https://fsprdcdnpublic.azureedge.net/global-pictures/flags-fwc2018-3/ger\" title=\"GER\"/>,\n",
       " <img alt=\"MEX\" class=\"fi-MEX fi-flag--3\" src=\"https://fsprdcdnpublic.azureedge.net/global-pictures/flags-fwc2018-3/mex\" title=\"MEX\"/>,\n",
       " <img alt=\"SWE\" class=\"fi-SWE fi-flag--3\" src=\"https://fsprdcdnpublic.azureedge.net/global-pictures/flags-fwc2018-3/swe\" title=\"SWE\"/>,\n",
       " <img alt=\"KOR\" class=\"fi-KOR fi-flag--3\" src=\"https://fsprdcdnpublic.azureedge.net/global-pictures/flags-fwc2018-3/kor\" title=\"KOR\"/>,\n",
       " <img alt=\"BEL\" class=\"fi-BEL fi-flag--3\" src=\"https://fsprdcdnpublic.azureedge.net/global-pictures/flags-fwc2018-3/bel\" title=\"BEL\"/>,\n",
       " <img alt=\"PAN\" class=\"fi-PAN fi-flag--3\" src=\"https://fsprdcdnpublic.azureedge.net/global-pictures/flags-fwc2018-3/pan\" title=\"PAN\"/>,\n",
       " <img alt=\"TUN\" class=\"fi-TUN fi-flag--3\" src=\"https://fsprdcdnpublic.azureedge.net/global-pictures/flags-fwc2018-3/tun\" title=\"TUN\"/>,\n",
       " <img alt=\"ENG\" class=\"fi-ENG fi-flag--3\" src=\"https://fsprdcdnpublic.azureedge.net/global-pictures/flags-fwc2018-3/eng\" title=\"ENG\"/>,\n",
       " <img alt=\"POL\" class=\"fi-POL fi-flag--3\" src=\"https://fsprdcdnpublic.azureedge.net/global-pictures/flags-fwc2018-3/pol\" title=\"POL\"/>,\n",
       " <img alt=\"SEN\" class=\"fi-SEN fi-flag--3\" src=\"https://fsprdcdnpublic.azureedge.net/global-pictures/flags-fwc2018-3/sen\" title=\"SEN\"/>,\n",
       " <img alt=\"COL\" class=\"fi-COL fi-flag--3\" src=\"https://fsprdcdnpublic.azureedge.net/global-pictures/flags-fwc2018-3/col\" title=\"COL\"/>,\n",
       " <img alt=\"JPN\" class=\"fi-JPN fi-flag--3\" src=\"https://fsprdcdnpublic.azureedge.net/global-pictures/flags-fwc2018-3/jpn\" title=\"JPN\"/>,\n",
       " <img class=\"img-responsive \" onerror=\"setDefaultPicture(this,'t_s4', 't_s4', 't_s3', 't_s3');\" src=\"https://img.fifa.com/image/upload/t_s3/duyhvyxjdgj54vujil1q.jpg\"/>,\n",
       " <img class=\"img-responsive \" onerror=\"setDefaultPicture(this,'t_s4', 't_s4', 't_s3', 't_s3');\" src=\"https://img.fifa.com/image/upload/t_s3/zgnpshbdfg5s28hyqzzq.jpg\"/>,\n",
       " <img class=\"img-responsive \" onerror=\"setDefaultPicture(this,'t_s4', 't_s4', 't_s3', 't_s3');\" src=\"https://img.fifa.com/image/upload/t_s3/fmjm4xsqppvfmxgzost4.jpg\"/>,\n",
       " <img class=\"img-responsive \" onerror=\"setDefaultPicture(this,'t_s4', 't_s4', 't_s3', 't_s3');\" src=\"https://img.fifa.com/image/upload/t_s3/xx3ypdulnadinduqotcg.jpg\"/>,\n",
       " <img class=\"img-responsive \" onerror=\"setDefaultPicture(this,'t_s4', 't_s4', 't_s3', 't_s3');\" src=\"https://img.fifa.com/image/upload/t_s3/fc9aabg4zipyt88q44u7.jpg\"/>,\n",
       " <img class=\"img-responsive \" onerror=\"setDefaultPicture(this,'t_s4', 't_s4', 't_s3', 't_s3');\" src=\"https://img.fifa.com/image/upload/t_s3/l9xfye0lwpo4ipk4tne6.jpg\"/>,\n",
       " <img class=\"img-responsive \" onerror=\"setDefaultPicture(this,'t_s4', 't_s4', 't_s3', 't_s3');\" src=\"https://img.fifa.com/image/upload/t_s3/qb8bukggyb4zt8h0urft.jpg\"/>,\n",
       " <img class=\"img-responsive \" onerror=\"setDefaultPicture(this,'t_s4', 't_s4', 't_s3', 't_s3');\" src=\"https://img.fifa.com/image/upload/t_s3/z9blkyivntztvokcxri0.jpg\"/>,\n",
       " <img class=\"img-responsive \" onerror=\"setDefaultPicture(this,'t_s4', 't_s4', 't_s3', 't_s3');\" src=\"https://img.fifa.com/image/upload/t_s3/wimynrniaqwuqqc9enon.jpg\"/>,\n",
       " <img class=\"img-responsive \" onerror=\"setDefaultPicture(this,'t_s4', 't_s4', 't_s3', 't_s3');\" src=\"https://img.fifa.com/image/upload/t_s3/ckwcekcoy5rx5blkl4ar.jpg\"/>,\n",
       " <img alt=\"sponsor-cocacola\" src=\"http://api.fifa.com/api/v1/picture/sponsors/2018fwc_p_cocacola_w_png\"/>,\n",
       " <img class=\"img-responsive \" onerror=\"setDefaultPicture(this,'t_s4', 't_s4', 't_s3', 't_s3');\" src=\"https://img.fifa.com/image/upload/t_s3/tddhbgmopjgdgnfjv1kb.jpg\"/>,\n",
       " <img class=\"img-responsive \" onerror=\"setDefaultPicture(this,'t_s4', 't_s4', 't_s3', 't_s3');\" src=\"https://img.fifa.com/image/upload/t_s3/rdsqmpctgh0r4y8tryuq.jpg\"/>,\n",
       " <img src=\"/assets/img/tournaments/17/2018/promo/tickets.png\"/>,\n",
       " <img alt=\"promo image\" src=\"https://img.fifa.com/assets/img/tournaments/17/2018/promo/tickets--mobile.png\"/>,\n",
       " <img alt=\"sponsor-visa\" src=\"http://api.fifa.com/api/v1/picture/sponsors/2018fwc_p_visa_w_png\"/>,\n",
       " <img class=\"img-responsive \" onerror=\"setDefaultPicture(this,'t_s4', 't_s4', 't_s3', 't_s3');\" src=\"https://img.fifa.com/image/upload/t_s3/uxm7uo3mfcyjrdbgk7zw.jpg\"/>,\n",
       " <img alt=\"sponsor-kia\" src=\"http://img.fifa.com/images/layout/sponsors/kia-white.png\"/>,\n",
       " <img class=\"img-responsive \" onerror=\"setDefaultPicture(this,'t_s4', 't_s4', 't_s3', 't_s3');\" src=\"https://img.fifa.com/image/upload/t_s3/ppwbh2d13oqxyai3t76x.jpg\"/>,\n",
       " <img class=\"img-responsive \" onerror=\"setDefaultPicture(this,'t_s4', 't_s4', 't_s3', 't_s3');\" src=\"https://img.fifa.com/image/upload/t_s3/d2zhhcdonqmz7jrddliu.jpg\"/>,\n",
       " <img class=\"img-responsive \" onerror=\"setDefaultPicture(this,'t_s4', 't_s4', 't_s3', 't_s3');\" src=\"https://img.fifa.com/image/upload/t_s3/ezyf0j9agpdjkumavo42.jpg\"/>,\n",
       " <img class=\"img-responsive \" onerror=\"setDefaultPicture(this,'t_s4', 't_s4', 't_s3', 't_s3');\" src=\"https://img.fifa.com/image/upload/t_s3/ckwcekcoy5rx5blkl4ar.jpg\"/>,\n",
       " <img alt=\"sponsor-cocacola\" src=\"http://api.fifa.com/api/v1/picture/sponsors/2018fwc_p_cocacola_w_png\"/>,\n",
       " <img class=\"img-responsive \" onerror=\"setDefaultPicture(this,'t_s4', 't_s4', 't_s3', 't_s3');\" src=\"https://img.fifa.com/image/upload/t_s3/wcigoy58weqvug71bw03.jpg\"/>,\n",
       " <img class=\"img-responsive \" onerror=\"setDefaultPicture(this,'t_s4', 't_s4', 't_s3', 't_s3');\" src=\"https://img.fifa.com/image/upload/t_s3/fcu5jfa1ltkt0gx1jbgu.jpg\"/>,\n",
       " <img class=\"img-responsive lazyload\" data-src=\"https://img.fifa.com/image/upload/t_s3/fvzyb4tuyjyr5uwgutnw.jpg\" onerror=\"setDefaultPicture(this,'t_s2', 't_s3', 't_s3', 't_s3');\"/>,\n",
       " <img class=\"img-responsive lazyload\" data-src=\"https://img.fifa.com/image/upload/t_s4/rajpgi1mbqmwwtxqp5ln.jpg\" onerror=\"setDefaultPicture(this,'t_l4', 't_l4', 't_l5', 't_s4');\"/>,\n",
       " <img class=\"img-responsive lazyload\" data-src=\"https://img.fifa.com/image/upload/t_s4/olimzairw0t4hkoupgrc.jpg\" onerror=\"setDefaultPicture(this,'t_s3', 't_s3', 't_s4', 't_s4');\"/>,\n",
       " <img class=\"img-responsive lazyload\" data-src=\"https://img.fifa.com/image/upload/t_s4/wl2t1z0ccgschbdbostz.jpg\" onerror=\"setDefaultPicture(this,'t_s3', 't_s3', 't_s4', 't_s4');\"/>,\n",
       " <img class=\"img-responsive lazyload\" data-src=\"https://img.fifa.com/image/upload/t_s4/ltfh80hgpwfu1b1ckp0i.jpg\" onerror=\"setDefaultPicture(this,'t_l4', 't_l4', 't_l5', 't_s4');\"/>,\n",
       " <img class=\"img-responsive lazyload\" data-src=\"https://img.fifa.com/image/upload/t_s4/e2usa13mejdivunogg76.jpg\" onerror=\"setDefaultPicture(this,'t_s3', 't_s3', 't_s4', 't_s4');\"/>,\n",
       " <img class=\"img-responsive lazyload\" data-src=\"https://img.fifa.com/image/upload/t_s4/vpe45ubpgxrdopwxmlqb.jpg\" onerror=\"setDefaultPicture(this,'t_s3', 't_s3', 't_s4', 't_s4');\"/>,\n",
       " <img class=\"img-responsive lazyload\" data-src=\"https://img.fifa.com/image/upload/t_s4/lhfrfxoc33voxav0jlga.jpg\" onerror=\"setDefaultPicture(this,'t_s3', 't_s3', 't_s4', 't_s4');\"/>,\n",
       " <img class=\"img-responsive lazyload\" data-src=\"https://img.fifa.com/image/upload/t_s3/rnydpv7eedrhn0ppmoaf.jpg\" onerror=\"setDefaultPicture(this,'t_s2', 't_s3', 't_s3', 't_s3');\"/>,\n",
       " <img class=\"img-responsive lazyload\" data-src=\"https://img.fifa.com/image/upload/t_s3/lzawc9upsot6xgrwflbw.jpg\" onerror=\"setDefaultPicture(this,'t_s2', 't_s3', 't_s3', 't_s3');\"/>,\n",
       " <img class=\"img-responsive lazyload\" data-src=\"https://img.fifa.com/image/upload/t_s4/e6aixp47tpxyhks6dldp.jpg\" onerror=\"setDefaultPicture(this,'t_l4', 't_l4', 't_l5', 't_s4');\"/>,\n",
       " <img class=\"img-responsive lazyload\" data-src=\"https://img.fifa.com/image/upload/t_s4/q1in1o1t8fgfbafdkpja.jpg\" onerror=\"setDefaultPicture(this,'t_s3', 't_s3', 't_s4', 't_s4');\"/>,\n",
       " <img class=\"img-responsive lazyload\" data-src=\"https://img.fifa.com/image/upload/t_p3/bsbf4kojkucovuazatqx.jpg\" onerror=\"setDefaultPicture(this,'t_p3', 't_p3', 't_p3', 't_p3');\"/>,\n",
       " <img class=\"img-responsive lazyload\" data-src=\"https://img.fifa.com/image/upload/t_s4/cj3dnqwsq28gfi6rmivy.jpg\" onerror=\"setDefaultPicture(this,'t_s3', 't_s3', 't_s4', 't_s4');\"/>,\n",
       " <img class=\"img-responsive lazyload\" data-src=\"https://img.fifa.com/image/upload/t_s4/qb8bukggyb4zt8h0urft.jpg\" onerror=\"setDefaultPicture(this,'t_l4', 't_l4', 't_l5', 't_s4');\"/>,\n",
       " <img class=\"img-responsive lazyload\" data-src=\"https://img.fifa.com/image/upload/t_s4/ovktkr1cilg4ce6ox7vl.jpg\" onerror=\"setDefaultPicture(this,'t_s3', 't_s3', 't_s4', 't_s4');\"/>,\n",
       " <img src=\"/assets/img/tournaments/17/2018/promo/hyundai.png\"/>,\n",
       " <img alt=\"promo image\" src=\"https://img.fifa.com/assets/img/tournaments/17/2018/promo/hyundai--mobile.png\"/>,\n",
       " <img alt=\"sponsor-hyundai\" src=\"http://api.fifa.com/api/v1/picture/sponsors/2018fwc_p_hyundai_w_png\"/>,\n",
       " <img src=\"/assets/img/tournaments/17/2018/promo/destination--red.png\"/>,\n",
       " <img alt=\"promo image\" src=\"https://img.fifa.com/assets/img/tournaments/17/2018/promo/destination--mobile.jpg\"/>,\n",
       " <img class=\"img-responsive lazyload\" data-src=\"https://img.fifa.com/image/upload/t_s3/vtjrujr3ohx4ppp2fzp7.jpg\" onerror=\"setDefaultPicture(this,'t_s4', 't_s4', 't_s3', 't_s3');\"/>,\n",
       " <img src=\"https://fsdevcdnpublic.azureedge.net/global-pictures/tournaments-sq-4/1\"/>,\n",
       " <img class=\"img-responsive lazyload\" data-src=\"https://img.fifa.com/image/upload/t_s3/cftnjkkngglz7dqmahhd.jpg\" onerror=\"setDefaultPicture(this,'t_s4', 't_s4', 't_s3', 't_s3');\"/>,\n",
       " <img src=\"https://fsdevcdnpublic.azureedge.net/global-pictures/tournaments-sq-4/3\"/>,\n",
       " <img class=\"img-responsive lazyload\" data-src=\"https://img.fifa.com/image/upload/t_s3/tp3patjojvpdchjcbzpk.jpg\" onerror=\"setDefaultPicture(this,'t_s4', 't_s4', 't_s3', 't_s3');\"/>,\n",
       " <img src=\"https://fsdevcdnpublic.azureedge.net/global-pictures/tournaments-sq-4/5\"/>,\n",
       " <img class=\"img-responsive lazyload\" data-src=\"https://img.fifa.com/image/upload/t_s3/ljuqx0h6ptzidjbnib9a.jpg\" onerror=\"setDefaultPicture(this,'t_s4', 't_s4', 't_s3', 't_s3');\"/>,\n",
       " <img src=\"https://fsdevcdnpublic.azureedge.net/global-pictures/tournaments-sq-4/7\"/>,\n",
       " <img class=\"img-responsive lazyload\" data-src=\"https://img.fifa.com/image/upload/t_s3/fhdllcjcnofmkk96khdw.jpg\" onerror=\"setDefaultPicture(this,'t_s4', 't_s4', 't_s3', 't_s3');\"/>,\n",
       " <img src=\"https://fsdevcdnpublic.azureedge.net/global-pictures/tournaments-sq-4/9\"/>,\n",
       " <img class=\"img-responsive lazyload\" data-src=\"https://img.fifa.com/image/upload/t_s3/ardbq3qozaxjwlchmzkr.jpg\" onerror=\"setDefaultPicture(this,'t_s4', 't_s4', 't_s3', 't_s3');\"/>,\n",
       " <img src=\"https://fsdevcdnpublic.azureedge.net/global-pictures/tournaments-sq-4/15\"/>,\n",
       " <img class=\"img-responsive lazyload\" data-src=\"https://img.fifa.com/image/upload/t_s3/x7uq3uvlmvxf2zwouru3.jpg\" onerror=\"setDefaultPicture(this,'t_s4', 't_s4', 't_s3', 't_s3');\"/>,\n",
       " <img src=\"https://fsdevcdnpublic.azureedge.net/global-pictures/tournaments-sq-4/21\"/>,\n",
       " <img class=\"img-responsive lazyload\" data-src=\"https://img.fifa.com/image/upload/t_s3/pujtkr6kzjmsin0vm9yk.jpg\" onerror=\"setDefaultPicture(this,'t_s4', 't_s4', 't_s3', 't_s3');\"/>,\n",
       " <img src=\"https://fsdevcdnpublic.azureedge.net/global-pictures/tournaments-sq-4/26\"/>,\n",
       " <img class=\"img-responsive lazyload\" data-src=\"https://img.fifa.com/image/upload/t_s3/v3vyyoyiqhchvq3kyjii.jpg\" onerror=\"setDefaultPicture(this,'t_s4', 't_s4', 't_s3', 't_s3');\"/>,\n",
       " <img src=\"https://fsdevcdnpublic.azureedge.net/global-pictures/tournaments-sq-4/32\"/>,\n",
       " <img class=\"img-responsive lazyload\" data-src=\"https://img.fifa.com/image/upload/t_s3/ikf9its5txvawtgmah6r.jpg\" onerror=\"setDefaultPicture(this,'t_s4', 't_s4', 't_s3', 't_s3');\"/>,\n",
       " <img src=\"https://fsdevcdnpublic.azureedge.net/global-pictures/tournaments-sq-4/39\"/>,\n",
       " <img class=\"img-responsive lazyload\" data-src=\"https://img.fifa.com/image/upload/t_s3/sj0olw8jn0aaqaknvvs3.jpg\" onerror=\"setDefaultPicture(this,'t_s4', 't_s4', 't_s3', 't_s3');\"/>,\n",
       " <img src=\"https://fsdevcdnpublic.azureedge.net/global-pictures/tournaments-sq-4/50\"/>,\n",
       " <img class=\"img-responsive lazyload\" data-src=\"https://img.fifa.com/image/upload/t_s3/erh4o713qyiyga17n7zw.jpg\" onerror=\"setDefaultPicture(this,'t_s4', 't_s4', 't_s3', 't_s3');\"/>,\n",
       " <img src=\"https://fsdevcdnpublic.azureedge.net/global-pictures/tournaments-sq-4/59\"/>,\n",
       " <img class=\"img-responsive lazyload\" data-src=\"https://img.fifa.com/image/upload/t_s3/cj3dnqwsq28gfi6rmivy.jpg\" onerror=\"setDefaultPicture(this,'t_s4', 't_s4', 't_s3', 't_s3');\"/>,\n",
       " <img src=\"https://fsdevcdnpublic.azureedge.net/global-pictures/tournaments-sq-4/68\"/>,\n",
       " <img class=\"img-responsive lazyload\" data-src=\"https://img.fifa.com/image/upload/t_s3/v6izjopizocxnrqfpeng.jpg\" onerror=\"setDefaultPicture(this,'t_s4', 't_s4', 't_s3', 't_s3');\"/>,\n",
       " <img src=\"https://fsdevcdnpublic.azureedge.net/global-pictures/tournaments-sq-4/76\"/>,\n",
       " <img class=\"img-responsive lazyload\" data-src=\"https://img.fifa.com/image/upload/t_s3/igjnqrnobh1dyyfjhbud.jpg\" onerror=\"setDefaultPicture(this,'t_s4', 't_s4', 't_s3', 't_s3');\"/>,\n",
       " <img src=\"https://fsdevcdnpublic.azureedge.net/global-pictures/tournaments-sq-4/84\"/>,\n",
       " <img class=\"img-responsive lazyload\" data-src=\"https://img.fifa.com/image/upload/t_s3/fkbjiy3mmhli0p13ngdj.jpg\" onerror=\"setDefaultPicture(this,'t_s4', 't_s4', 't_s3', 't_s3');\"/>,\n",
       " <img src=\"https://fsdevcdnpublic.azureedge.net/global-pictures/tournaments-sq-4/1013\"/>,\n",
       " <img class=\"img-responsive lazyload\" data-src=\"https://img.fifa.com/image/upload/t_s3/euht2o5l5hzmhlkbtnoi.jpg\" onerror=\"setDefaultPicture(this,'t_s4', 't_s4', 't_s3', 't_s3');\"/>,\n",
       " <img src=\"https://fsdevcdnpublic.azureedge.net/global-pictures/tournaments-sq-4/4395\"/>,\n",
       " <img class=\"img-responsive lazyload\" data-src=\"https://img.fifa.com/image/upload/t_s3/nu9kux6bwqfyzl09haop.jpg\" onerror=\"setDefaultPicture(this,'t_s4', 't_s4', 't_s3', 't_s3');\"/>,\n",
       " <img src=\"https://fsdevcdnpublic.azureedge.net/global-pictures/tournaments-sq-4/9741\"/>,\n",
       " <img class=\"img-responsive lazyload\" data-src=\"https://img.fifa.com/image/upload/t_s3/frkeucv1g8gaxde6wcwq.jpg\" onerror=\"setDefaultPicture(this,'t_s4', 't_s4', 't_s3', 't_s3');\"/>,\n",
       " <img src=\"https://fsdevcdnpublic.azureedge.net/global-pictures/tournaments-sq-4/249715\"/>,\n",
       " <img class=\"img-responsive lazyload\" data-src=\"https://img.fifa.com/image/upload/t_s3/p3ibkh1zuopqd97b1tya.jpg\" onerror=\"setDefaultPicture(this,'t_s4', 't_s4', 't_s3', 't_s3');\"/>,\n",
       " <img src=\"https://fsdevcdnpublic.azureedge.net/global-pictures/tournaments-sq-4/251164\"/>,\n",
       " <img class=\"img-responsive lazyload\" data-src=\"https://img.fifa.com/image/upload/t_s3/ydfgefkx7lvjseu2ru30.jpg\" onerror=\"setDefaultPicture(this,'t_s4', 't_s4', 't_s3', 't_s3');\"/>,\n",
       " <img src=\"https://fsdevcdnpublic.azureedge.net/global-pictures/tournaments-sq-4/254645\"/>,\n",
       " <img class=\"img-responsive lazyload\" data-src=\"https://img.fifa.com/image/upload/t_s3/uo1mc2kyfqndymfcqgk5.jpg\" onerror=\"setDefaultPicture(this,'t_s4', 't_s4', 't_s3', 't_s3');\"/>,\n",
       " <img src=\"https://fsdevcdnpublic.azureedge.net/global-pictures/tournaments-sq-4/255711\"/>]"
      ]
     },
     "execution_count": 9,
     "metadata": {},
     "output_type": "execute_result"
    }
   ],
   "source": [
    "soup.find_all('img')"
   ]
  },
  {
   "cell_type": "code",
   "execution_count": null,
   "metadata": {
    "collapsed": true
   },
   "outputs": [],
   "source": []
  }
 ],
 "metadata": {
  "kernelspec": {
   "display_name": "Python 3",
   "language": "python",
   "name": "python3"
  },
  "language_info": {
   "codemirror_mode": {
    "name": "ipython",
    "version": 3
   },
   "file_extension": ".py",
   "mimetype": "text/x-python",
   "name": "python",
   "nbconvert_exporter": "python",
   "pygments_lexer": "ipython3",
   "version": "3.6.0"
  }
 },
 "nbformat": 4,
 "nbformat_minor": 2
}
